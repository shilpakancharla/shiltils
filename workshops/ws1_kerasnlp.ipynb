{
  "cells": [
    {
      "cell_type": "markdown",
      "source": [
        "# KerasNLP Guide\n",
        "\n",
        "KerasNLP is a natural language processing library that supports users through their entire development cycle. Our workflows are built from modular components that have state-of-the-art preset weights and architectures when used out-of-the-box and are easily customizable when more control is needed. We emphasize in-graph computation for all workflows so that developers can expect easy productionization using the TensorFlow ecosystem.\n",
        "\n",
        "This library is an extension of the core Keras API; all high-level modules are `Layers` or `Models` that recieve that same level of polish as core Keras."
      ],
      "metadata": {
        "id": "jYJzVtWoS0yk"
      }
    },
    {
      "cell_type": "markdown",
      "source": [
        "## Set up\n",
        "\n",
        "Begin by installing and importing some necessary libraries, including: [KerasNLP](https://keras.io/keras_nlp/) for using various models and preprocessing components and [TensorFlow Datasets](https://www.tensorflow.org/datasets) to download one of the datasets we will be working with, the [AG News Dataset](https://www.tensorflow.org/datasets/catalog/ag_news_subset)."
      ],
      "metadata": {
        "id": "H-EiszQuTktV"
      }
    },
    {
      "cell_type": "code",
      "execution_count": null,
      "metadata": {
        "colab": {
          "base_uri": "https://localhost:8080/"
        },
        "id": "5t7J4fxfCgwz",
        "outputId": "2175f6fb-05f7-40f7-e3da-e1e639bc9f8a"
      },
      "outputs": [
        {
          "name": "stdout",
          "output_type": "stream",
          "text": [
            "\u001b[2K     \u001b[90m━━━━━━━━━━━━━━━━━━━━━━━━━━━━━━━━━━━━━━━\u001b[0m \u001b[32m337.5/337.5 KB\u001b[0m \u001b[31m5.8 MB/s\u001b[0m eta \u001b[36m0:00:00\u001b[0m\n",
            "\u001b[2K     \u001b[90m━━━━━━━━━━━━━━━━━━━━━━━━━━━━━━━━━━━━━━\u001b[0m \u001b[32m452.9/452.9 KB\u001b[0m \u001b[31m21.7 MB/s\u001b[0m eta \u001b[36m0:00:00\u001b[0m\n",
            "\u001b[2K     \u001b[90m━━━━━━━━━━━━━━━━━━━━━━━━━━━━━━━━━━━━━━━━\u001b[0m \u001b[32m5.8/5.8 MB\u001b[0m \u001b[31m47.3 MB/s\u001b[0m eta \u001b[36m0:00:00\u001b[0m\n",
            "\u001b[2K     \u001b[90m━━━━━━━━━━━━━━━━━━━━━━━━━━━━━━━━━━━━━━━\u001b[0m \u001b[32m213.0/213.0 KB\u001b[0m \u001b[31m8.5 MB/s\u001b[0m eta \u001b[36m0:00:00\u001b[0m\n",
            "\u001b[2K     \u001b[90m━━━━━━━━━━━━━━━━━━━━━━━━━━━━━━━━━━━━━━\u001b[0m \u001b[32m190.3/190.3 KB\u001b[0m \u001b[31m11.5 MB/s\u001b[0m eta \u001b[36m0:00:00\u001b[0m\n",
            "\u001b[2K     \u001b[90m━━━━━━━━━━━━━━━━━━━━━━━━━━━━━━━━━━━━━━━\u001b[0m \u001b[32m132.0/132.0 KB\u001b[0m \u001b[31m8.8 MB/s\u001b[0m eta \u001b[36m0:00:00\u001b[0m\n",
            "\u001b[2K     \u001b[90m━━━━━━━━━━━━━━━━━━━━━━━━━━━━━━━━━━━━━━━\u001b[0m \u001b[32m140.6/140.6 KB\u001b[0m \u001b[31m8.8 MB/s\u001b[0m eta \u001b[36m0:00:00\u001b[0m\n",
            "\u001b[2K     \u001b[90m━━━━━━━━━━━━━━━━━━━━━━━━━━━━━━━━━━━━━━━\u001b[0m \u001b[32m588.3/588.3 MB\u001b[0m \u001b[31m1.8 MB/s\u001b[0m eta \u001b[36m0:00:00\u001b[0m\n",
            "\u001b[2K     \u001b[90m━━━━━━━━━━━━━━━━━━━━━━━━━━━━━━━━━━━━━━━━\u001b[0m \u001b[32m5.9/5.9 MB\u001b[0m \u001b[31m76.0 MB/s\u001b[0m eta \u001b[36m0:00:00\u001b[0m\n",
            "\u001b[2K     \u001b[90m━━━━━━━━━━━━━━━━━━━━━━━━━━━━━━━━━━━━━━━\u001b[0m \u001b[32m578.1/578.1 MB\u001b[0m \u001b[31m2.6 MB/s\u001b[0m eta \u001b[36m0:00:00\u001b[0m\n",
            "\u001b[2K     \u001b[90m━━━━━━━━━━━━━━━━━━━━━━━━━━━━━━━━━━━━━━━\u001b[0m \u001b[32m578.1/578.1 MB\u001b[0m \u001b[31m3.3 MB/s\u001b[0m eta \u001b[36m0:00:00\u001b[0m\n",
            "\u001b[2K     \u001b[90m━━━━━━━━━━━━━━━━━━━━━━━━━━━━━━━━━━━━━━━━\u001b[0m \u001b[32m4.6/4.6 MB\u001b[0m \u001b[31m95.5 MB/s\u001b[0m eta \u001b[36m0:00:00\u001b[0m\n",
            "\u001b[?25h"
          ]
        }
      ],
      "source": [
        "!pip install keras_nlp datasets --quiet"
      ]
    },
    {
      "cell_type": "code",
      "execution_count": null,
      "metadata": {
        "id": "cFpuZw-3CmZ0"
      },
      "outputs": [],
      "source": [
        "import keras\n",
        "import keras_nlp\n",
        "import numpy as np\n",
        "import tensorflow as tf\n",
        "import matplotlib.pyplot as plt\n",
        "import tensorflow_datasets as tfds"
      ]
    },
    {
      "cell_type": "markdown",
      "metadata": {
        "id": "YmJyJcudvDHl"
      },
      "source": [
        "## Download the dataset"
      ]
    },
    {
      "cell_type": "code",
      "execution_count": null,
      "metadata": {
        "id": "U5QUck8FZjEH"
      },
      "outputs": [],
      "source": [
        "ds = tfds.load('ag_news_subset', as_supervised=True) # ds['train] and ds['test] are tuples"
      ]
    },
    {
      "cell_type": "markdown",
      "source": [
        "Let's take a look at what the data looks like:"
      ],
      "metadata": {
        "id": "iL0_9acQUIuu"
      }
    },
    {
      "cell_type": "code",
      "execution_count": null,
      "metadata": {
        "colab": {
          "base_uri": "https://localhost:8080/"
        },
        "id": "ryqxEemeyomH",
        "outputId": "6453f3cd-e9be-4d3b-868e-57db1122b39c"
      },
      "outputs": [
        {
          "name": "stdout",
          "output_type": "stream",
          "text": [
            "b'AMD #39;s new dual-core Opteron chip is designed mainly for corporate computing applications, including databases, Web services, and financial transactions.'\n",
            "3\n"
          ]
        }
      ],
      "source": [
        "for text, label in ds['train']:\n",
        "  print(text.numpy())\n",
        "  print(label.numpy())\n",
        "  break"
      ]
    },
    {
      "cell_type": "code",
      "execution_count": null,
      "metadata": {
        "id": "PYEme9ii9jf9"
      },
      "outputs": [],
      "source": [
        "# Batch the data\n",
        "train_ds = ds['train'].batch(16)\n",
        "test_ds = ds['test'].batch(16)"
      ]
    },
    {
      "cell_type": "markdown",
      "metadata": {
        "id": "pzDkPP4NtV6U"
      },
      "source": [
        "## Inference with a pre-trained classifier\n",
        "\n",
        "Our first task is to try running a sample of text with a pre-trained [BERT classifier](https://arxiv.org/abs/1810.04805). BERT and other Transformer encoder architectures have been wildly successful on a variety of tasks in NLP (natural language processing). They compute vector-space representations of natural language that are suitable for use in deep learning models. The BERT family of models uses the Transformer encoder architecture to process each token of input text in the full context of all tokens before and after, hence the name: Bidirectional Encoder Representations from Transformers."
      ]
    },
    {
      "cell_type": "code",
      "execution_count": null,
      "metadata": {
        "colab": {
          "base_uri": "https://localhost:8080/"
        },
        "id": "GzDQvuzoHzLG",
        "outputId": "451452dc-244d-4c39-da0c-6b9fe68d0b16"
      },
      "outputs": [
        {
          "name": "stdout",
          "output_type": "stream",
          "text": [
            "Downloading data from https://storage.googleapis.com/keras-nlp/models/bert_medium_en_uncased/v1/vocab.txt\n",
            "231508/231508 [==============================] - 0s 0us/step\n",
            "Downloading data from https://storage.googleapis.com/keras-nlp/models/bert_medium_en_uncased/v1/model.h5\n",
            "165657088/165657088 [==============================] - 1s 0us/step\n"
          ]
        }
      ],
      "source": [
        "# Create a BERT classifier to fit your data\n",
        "classifier = keras_nlp.models.BertClassifier.from_preset(preset=\"bert_medium_en_uncased\",\n",
        "                                                         num_classes=4)"
      ]
    },
    {
      "cell_type": "code",
      "execution_count": null,
      "metadata": {
        "colab": {
          "base_uri": "https://localhost:8080/",
          "height": 422
        },
        "id": "Bra_3dO5d45y",
        "outputId": "4963469d-b44d-4bc2-92a2-cc27d77c796d"
      },
      "outputs": [
        {
          "data": {
            "image/png": "[encoded data removed]",
            "text/plain": [
              "<IPython.core.display.Image object>"
            ]
          },
          "execution_count": 9,
          "metadata": {},
          "output_type": "execute_result"
        }
      ],
      "source": [
        "tf.keras.utils.plot_model(classifier, show_shapes=True)"
      ]
    },
    {
      "cell_type": "code",
      "execution_count": null,
      "metadata": {
        "colab": {
          "base_uri": "https://localhost:8080/"
        },
        "id": "z1NQIMRHMzf1",
        "outputId": "de90a0cf-7d7f-494c-d5c4-64682cfce52d"
      },
      "outputs": [
        {
          "name": "stdout",
          "output_type": "stream",
          "text": [
            "1/1 [==============================] - 4s 4s/step\n"
          ]
        },
        {
          "data": {
            "text/plain": [
              "array([[0.0906518 , 0.07575043, 0.18867147, 0.2883668 ]], dtype=float32)"
            ]
          },
          "execution_count": 10,
          "metadata": {},
          "output_type": "execute_result"
        }
      ],
      "source": [
        "classifier.predict([text])"
      ]
    },
    {
      "cell_type": "code",
      "execution_count": null,
      "metadata": {
        "colab": {
          "base_uri": "https://localhost:8080/"
        },
        "id": "see0IWDvKuVm",
        "outputId": "76c64160-5730-4efe-94ac-d556b4b97266"
      },
      "outputs": [
        {
          "name": "stdout",
          "output_type": "stream",
          "text": [
            "1/1 [==============================] - 1s 687ms/step\n"
          ]
        },
        {
          "data": {
            "text/plain": [
              "3"
            ]
          },
          "execution_count": 11,
          "metadata": {},
          "output_type": "execute_result"
        }
      ],
      "source": [
        "np.argmax(classifier.predict([text]))"
      ]
    },
    {
      "cell_type": "markdown",
      "source": [
        "Let's try compiling the model and observing how it performs on the test dataset."
      ],
      "metadata": {
        "id": "a39X19XmWovS"
      }
    },
    {
      "cell_type": "code",
      "execution_count": null,
      "metadata": {
        "id": "R7J_1vFrn2C2"
      },
      "outputs": [],
      "source": [
        "classifier.compile(\n",
        "    loss=keras.losses.SparseCategoricalCrossentropy(from_logits=True),\n",
        "    metrics=keras.metrics.SparseCategoricalAccuracy(),\n",
        "    jit_compile=True\n",
        ")"
      ]
    },
    {
      "cell_type": "markdown",
      "source": [
        "We have a 23% accuracy, but let's remember this model hasn't been trained on this specific dataset. Let's continue exploring other levels of usage of KerasNLP to see how it performs on the dataset."
      ],
      "metadata": {
        "id": "DJFVQ8TGWtZK"
      }
    },
    {
      "cell_type": "code",
      "execution_count": null,
      "metadata": {
        "colab": {
          "base_uri": "https://localhost:8080/"
        },
        "id": "3D96arUYntlO",
        "outputId": "70f3b434-7520-4925-d629-782675cff1d1"
      },
      "outputs": [
        {
          "name": "stdout",
          "output_type": "stream",
          "text": [
            "475/475 [==============================] - 83s 156ms/step - loss: 1.4002 - sparse_categorical_accuracy: 0.2350\n"
          ]
        },
        {
          "data": {
            "text/plain": [
              "{'loss': 1.4001916646957397,\n",
              " 'sparse_categorical_accuracy': 0.23500001430511475}"
            ]
          },
          "execution_count": 14,
          "metadata": {},
          "output_type": "execute_result"
        }
      ],
      "source": [
        "classifier.evaluate(test_ds, return_dict=True)"
      ]
    },
    {
      "cell_type": "markdown",
      "metadata": {
        "id": "hHE9iG5EtaBM"
      },
      "source": [
        "## Fine tuning a pre-trained BERT backbone\n",
        "\n",
        "When labeled text specific to our task is available, fine-tuning a custom classifier can improve performance. If we want to predict what category an AG News title belongs to, it helps to fit it to the AG News dataset. IFor many tasks no relevant pretrained model will be available (e.g., categorizing customer reviews), so we can consider fine-tuning to be an option."
      ]
    },
    {
      "cell_type": "code",
      "execution_count": null,
      "metadata": {
        "id": "w5eqSperbi8x"
      },
      "outputs": [],
      "source": [
        "# Recall the BERT classifier we created a couple cell blocks ago\n",
        "classifier.compile(\n",
        "    loss=keras.losses.SparseCategoricalCrossentropy(from_logits=True),\n",
        "    optimizer=keras.optimizers.Adam(learning_rate = 0.0001),\n",
        "    metrics=keras.metrics.SparseCategoricalAccuracy(),\n",
        "    jit_compile=True,\n",
        ")"
      ]
    },
    {
      "cell_type": "markdown",
      "source": [
        "Notice the huge jump in accuracy. We went from 23% to almost 90%. This is in part due to fine tuning."
      ],
      "metadata": {
        "id": "e7z7misxXTyJ"
      }
    },
    {
      "cell_type": "code",
      "execution_count": null,
      "metadata": {
        "colab": {
          "base_uri": "https://localhost:8080/"
        },
        "id": "MIWTKimLE9SF",
        "outputId": "fc72b4e9-4189-4969-e6a7-d68882512568"
      },
      "outputs": [
        {
          "name": "stdout",
          "output_type": "stream",
          "text": [
            "7500/7500 [==============================] - 4321s 571ms/step - loss: 0.3146 - sparse_categorical_accuracy: 0.8965 - val_loss: 0.2683 - val_sparse_categorical_accuracy: 0.9162\n"
          ]
        },
        {
          "data": {
            "text/plain": [
              "<keras.callbacks.History at 0x7fbcd5797040>"
            ]
          },
          "execution_count": 16,
          "metadata": {},
          "output_type": "execute_result"
        }
      ],
      "source": [
        "history = classifier.fit(train_ds,\n",
        "                         validation_data=test_ds,\n",
        "                         epochs=1)"
      ]
    },
    {
      "cell_type": "markdown",
      "metadata": {
        "id": "xvG-pvMHQUMX"
      },
      "source": [
        "## Fine tuning with user-controlled preprocessing\n",
        "\n",
        "For some advanced training scenarios, users might prefer direct control over preprocessing. For large datasets, examples can be preprocessed in advance and saved to disk or preprocessed by a separate worker pool using tf.data.experimental.service. In other cases, custom preprocessing is needed to handle the inputs.\n",
        "\n",
        "Pass `preprocessor=None` to the constructor of a task `Model` to skip automatic preprocessing or pass a custom `BertPreprocessor` instead."
      ]
    },
    {
      "cell_type": "markdown",
      "metadata": {
        "id": "EVtMT4b6l7ey"
      },
      "source": [
        "### Separate preprocessing from the same preset\n",
        "\n",
        "Each model architecture has a parallel __preprocessor__ `Layer` with its own `from_preset` constructor. Using the same __preset__ for this `Layer` will return the matching preprocessor as the task.\n",
        "\n",
        "In this workflow we train the model over three epochs using `tf.data.Dataset.cache()`, which computes the preprocessing once and caches the result before fitting begins.\n",
        "\n"
      ]
    },
    {
      "cell_type": "code",
      "execution_count": null,
      "metadata": {
        "colab": {
          "base_uri": "https://localhost:8080/"
        },
        "id": "okXV9UTBdBhT",
        "outputId": "d154b372-68fd-48ed-8d9e-2e32d3d9b453"
      },
      "outputs": [
        {
          "name": "stdout",
          "output_type": "stream",
          "text": [
            "Epoch 1/3\n",
            "7500/7500 [==============================] - 4316s 571ms/step - loss: 0.3071 - sparse_categorical_accuracy: 0.8989 - val_loss: 0.2502 - val_sparse_categorical_accuracy: 0.9222\n",
            "Epoch 2/3\n",
            "7500/7500 [==============================] - 4317s 576ms/step - loss: 0.2254 - sparse_categorical_accuracy: 0.9287 - val_loss: 0.2670 - val_sparse_categorical_accuracy: 0.9203\n",
            "Epoch 3/3\n",
            "7500/7500 [==============================] - 4204s 561ms/step - loss: 0.1869 - sparse_categorical_accuracy: 0.9427 - val_loss: 0.2851 - val_sparse_categorical_accuracy: 0.9203\n"
          ]
        },
        {
          "data": {
            "text/plain": [
              "<keras.callbacks.History at 0x7fbcd2ed44f0>"
            ]
          },
          "execution_count": 19,
          "metadata": {},
          "output_type": "execute_result"
        }
      ],
      "source": [
        "preprocessor = keras_nlp.models.BertPreprocessor.from_preset(\n",
        "    \"bert_medium_en_uncased\",\n",
        "    sequence_length=512\n",
        ")\n",
        "\n",
        "train_ds_cached = (\n",
        "    train_ds.map(preprocessor, tf.data.AUTOTUNE).cache().prefetch(tf.data.AUTOTUNE)\n",
        ")\n",
        "\n",
        "test_ds_cached = (\n",
        "    test_ds.map(preprocessor, tf.data.AUTOTUNE).cache().prefetch(tf.data.AUTOTUNE)\n",
        ")\n",
        "\n",
        "classifier = keras_nlp.models.BertClassifier.from_preset(preset=\"bert_medium_en_uncased\",\n",
        "                                                         preprocessor=None,\n",
        "                                                         num_classes=4)\n",
        "\n",
        "classifier.compile(\n",
        "    loss=keras.losses.SparseCategoricalCrossentropy(from_logits=True),\n",
        "    optimizer=keras.optimizers.Adam(learning_rate = 0.0001),\n",
        "    metrics=keras.metrics.SparseCategoricalAccuracy(),\n",
        "    jit_compile=True,\n",
        ")\n",
        "\n",
        "classifier.fit(\n",
        "    train_ds_cached,\n",
        "    validation_data=test_ds_cached,\n",
        "    epochs=3\n",
        ")"
      ]
    },
    {
      "cell_type": "markdown",
      "source": [
        "As you can see above, apply some preprocessing has further increased our accuracy over the three epochs. We're now at 94% accuracy, and the loss has also decreased."
      ],
      "metadata": {
        "id": "iNtW0dtbbf-J"
      }
    },
    {
      "cell_type": "markdown",
      "metadata": {
        "id": "Mxhx2xbpl_D3"
      },
      "source": [
        "### Custom preprocessing\n",
        "\n",
        "In cases where custom preprocessing is required, we offer direct access to the `Tokenizer` class that maps raw strings to tokens. It also has a `from_preset()` constructor to get the vocabulary matching pretraining."
      ]
    },
    {
      "cell_type": "code",
      "execution_count": null,
      "metadata": {
        "colab": {
          "base_uri": "https://localhost:8080/"
        },
        "id": "Z16kL6W7mBs-",
        "outputId": "664f8d5a-d304-426c-aa23-3404d0732318"
      },
      "outputs": [
        {
          "name": "stdout",
          "output_type": "stream",
          "text": [
            "Downloading data from https://storage.googleapis.com/keras-nlp/models/bert_medium_en_uncased/v1/vocab.txt\n",
            "231508/231508 [==============================] - 0s 1us/step\n"
          ]
        },
        {
          "data": {
            "text/plain": [
              "<tf.RaggedTensor [[1045, 2052, 2066, 2000, 4553, 3019, 2653, 6364],\n",
              " [2064, 2017, 2903, 2026, 7620, 1999, 2731, 10640, 1029]]>"
            ]
          },
          "execution_count": 6,
          "metadata": {},
          "output_type": "execute_result"
        }
      ],
      "source": [
        "# Tokenizer class maps raw strings to tokens\n",
        "tokenizer = keras_nlp.models.BertTokenizer.from_preset(\"bert_medium_en_uncased\")\n",
        "tokenizer([\"I would like to learn natural language processing\",\n",
        "           \"Can you believe my improvement in training accuracy?\"])"
      ]
    },
    {
      "cell_type": "code",
      "execution_count": null,
      "metadata": {
        "id": "6lHOmG_Eszm1"
      },
      "outputs": [],
      "source": [
        "packer = keras_nlp.layers.MultiSegmentPacker(\n",
        "    start_value=tokenizer.cls_token_id,\n",
        "    end_value=tokenizer.sep_token_id,\n",
        "    sequence_length=64\n",
        ")"
      ]
    },
    {
      "cell_type": "code",
      "execution_count": null,
      "metadata": {
        "id": "AtGrT913rl7U"
      },
      "outputs": [],
      "source": [
        "def preprocessor(x, y):\n",
        "  token_ids, segment_ids = packer(tokenizer(x))\n",
        "  x = {\n",
        "      \"token_ids\": token_ids,\n",
        "       \"segment_ids\": segment_ids,\n",
        "       \"padding_mask\": token_ids != 0\n",
        "  }\n",
        "  return x, y"
      ]
    },
    {
      "cell_type": "code",
      "execution_count": null,
      "metadata": {
        "id": "MjphTlfVs0ql"
      },
      "outputs": [],
      "source": [
        "train_ds_preprocessed = (\n",
        "    train_ds.map(preprocessor, tf.data.AUTOTUNE).cache().prefetch(tf.data.AUTOTUNE)\n",
        ")\n",
        "\n",
        "test_ds_preprocessed = (\n",
        "    test_ds.map(preprocessor, tf.data.AUTOTUNE).cache().prefetch(tf.data.AUTOTUNE)\n",
        ")"
      ]
    },
    {
      "cell_type": "code",
      "execution_count": null,
      "metadata": {
        "colab": {
          "base_uri": "https://localhost:8080/"
        },
        "id": "LDdP_-yGtYy4",
        "outputId": "9d0016e8-a32b-43e2-d726-a5853b2df847"
      },
      "outputs": [
        {
          "name": "stdout",
          "output_type": "stream",
          "text": [
            "({'token_ids': <tf.Tensor: shape=(64,), dtype=int32, numpy=\n",
            "array([  101,  2572,  2094,  1001,  4464,  1025,  1055,  2047,  7037,\n",
            "        1011,  4563, 23569, 26534,  9090,  2003,  2881,  3701,  2005,\n",
            "        5971,  9798,  5097,  1010,  2164, 17881,  1010,  4773,  2578,\n",
            "        1010,  1998,  3361, 11817,  1012,   102,     0,     0,     0,\n",
            "           0,     0,     0,     0,     0,     0,     0,     0,     0,\n",
            "           0,     0,     0,     0,     0,     0,     0,     0,     0,\n",
            "           0,     0,     0,     0,     0,     0,     0,     0,     0,\n",
            "           0], dtype=int32)>, 'segment_ids': <tf.Tensor: shape=(64,), dtype=int32, numpy=\n",
            "array([0, 0, 0, 0, 0, 0, 0, 0, 0, 0, 0, 0, 0, 0, 0, 0, 0, 0, 0, 0, 0, 0,\n",
            "       0, 0, 0, 0, 0, 0, 0, 0, 0, 0, 0, 0, 0, 0, 0, 0, 0, 0, 0, 0, 0, 0,\n",
            "       0, 0, 0, 0, 0, 0, 0, 0, 0, 0, 0, 0, 0, 0, 0, 0, 0, 0, 0, 0],\n",
            "      dtype=int32)>, 'padding_mask': <tf.Tensor: shape=(64,), dtype=bool, numpy=\n",
            "array([ True,  True,  True,  True,  True,  True,  True,  True,  True,\n",
            "        True,  True,  True,  True,  True,  True,  True,  True,  True,\n",
            "        True,  True,  True,  True,  True,  True,  True,  True,  True,\n",
            "        True,  True,  True,  True,  True,  True, False, False, False,\n",
            "       False, False, False, False, False, False, False, False, False,\n",
            "       False, False, False, False, False, False, False, False, False,\n",
            "       False, False, False, False, False, False, False, False, False,\n",
            "       False])>}, <tf.Tensor: shape=(), dtype=int64, numpy=3>)\n"
          ]
        }
      ],
      "source": [
        "# Preprocessed example\n",
        "print(train_ds_preprocessed.unbatch().take(1).get_single_element())"
      ]
    },
    {
      "cell_type": "markdown",
      "metadata": {
        "id": "etEobHRJQZd-"
      },
      "source": [
        "## Fine tuning with a custom model\n",
        "\n",
        "For more advanced applications, an appropriate task `Model` may not be available. In this case we provide direct access to the backbone `Model`, which has its own `from_preset` constructor and can be composed with custom `Layer`s. This is a form of transfer learning.\n",
        "\n",
        "A backbone `Model` does not include automatic preprocessing but can be paired with a matching preprocessor using the same preset as shown in the previous workflow.\n",
        "\n",
        "In this workflow we experiment with freezing our backbone model and adding two trainable transfomer layers to adapt to the new input."
      ]
    },
    {
      "cell_type": "code",
      "execution_count": null,
      "metadata": {
        "id": "jRg69HszQc4m"
      },
      "outputs": [],
      "source": [
        "preprocessor = keras_nlp.models.BertPreprocessor.from_preset(\"bert_medium_en_uncased\")\n",
        "backbone = keras_nlp.models.BertBackbone.from_preset(\"bert_medium_en_uncased\")"
      ]
    },
    {
      "cell_type": "code",
      "execution_count": null,
      "metadata": {
        "id": "sMZ9tYMWuAFu"
      },
      "outputs": [],
      "source": [
        "train_ds_preprocessed = (\n",
        "    train_ds.map(preprocessor, tf.data.AUTOTUNE).cache().prefetch(tf.data.AUTOTUNE)\n",
        ")\n",
        "\n",
        "test_ds_preprocessed = (\n",
        "    test_ds.map(preprocessor, tf.data.AUTOTUNE).cache().prefetch(tf.data.AUTOTUNE)\n",
        ")"
      ]
    },
    {
      "cell_type": "code",
      "execution_count": null,
      "metadata": {
        "id": "W737RonNuVeo"
      },
      "outputs": [],
      "source": [
        "backbone.trainable = False\n",
        "inputs = backbone.input\n",
        "sequence = backbone(inputs)[\"sequence_output\"]\n",
        "for _ in range(2):\n",
        "  sequence = keras_nlp.layers.TransformerEncoder(\n",
        "      num_heads=2,\n",
        "      intermediate_dim=512,\n",
        "      dropout=0.1\n",
        "  )(sequence)"
      ]
    },
    {
      "cell_type": "code",
      "execution_count": null,
      "metadata": {
        "id": "XfRTZj-gvT8W"
      },
      "outputs": [],
      "source": [
        "# Use [CLS] token output to classify\n",
        "outputs = keras.layers.Dense(2)(sequence[:, backbone.cls_token_index, :])"
      ]
    },
    {
      "cell_type": "code",
      "execution_count": null,
      "metadata": {
        "colab": {
          "base_uri": "https://localhost:8080/"
        },
        "id": "lGlTjoj8usOC",
        "outputId": "b4d7868d-c03b-4004-e6d0-66f5e038a031"
      },
      "outputs": [
        {
          "name": "stdout",
          "output_type": "stream",
          "text": [
            "Model: \"model\"\n",
            "__________________________________________________________________________________________________\n",
            " Layer (type)                   Output Shape         Param #     Connected to                     \n",
            "==================================================================================================\n",
            " padding_mask (InputLayer)      [(None, None)]       0           []                               \n",
            "                                                                                                  \n",
            " segment_ids (InputLayer)       [(None, None)]       0           []                               \n",
            "                                                                                                  \n",
            " token_ids (InputLayer)         [(None, None)]       0           []                               \n",
            "                                                                                                  \n",
            " bert_backbone (BertBackbone)   {'sequence_output':  41373184    ['padding_mask[0][0]',           \n",
            "                                 (None, None, 512),               'segment_ids[0][0]',            \n",
            "                                 'pooled_output': (               'token_ids[0][0]']              \n",
            "                                None, 512)}                                                       \n",
            "                                                                                                  \n",
            " transformer_encoder (Transform  (None, None, 512)   1577984     ['bert_backbone[0][1]']          \n",
            " erEncoder)                                                                                       \n",
            "                                                                                                  \n",
            " transformer_encoder_1 (Transfo  (None, None, 512)   1577984     ['transformer_encoder[0][0]']    \n",
            " rmerEncoder)                                                                                     \n",
            "                                                                                                  \n",
            " tf.__operators__.getitem_1 (Sl  (None, 512)         0           ['transformer_encoder_1[0][0]']  \n",
            " icingOpLambda)                                                                                   \n",
            "                                                                                                  \n",
            " dense (Dense)                  (None, 2)            1026        ['tf.__operators__.getitem_1[0][0\n",
            "                                                                 ]']                              \n",
            "                                                                                                  \n",
            "==================================================================================================\n",
            "Total params: 44,530,178\n",
            "Trainable params: 3,156,994\n",
            "Non-trainable params: 41,373,184\n",
            "__________________________________________________________________________________________________\n"
          ]
        }
      ],
      "source": [
        "model = keras.Model(inputs, outputs)\n",
        "model.compile(\n",
        "    loss=keras.losses.SparseCategoricalCrossentropy(from_logits=True),\n",
        "    optimizer=keras.optimizers.Adam(learning_rate = 0.0001),\n",
        "    metrics=keras.metrics.SparseCategoricalAccuracy(),\n",
        "    jit_compile=True,\n",
        ")\n",
        "model.summary()"
      ]
    }
  ],
  "metadata": {
    "accelerator": "GPU",
    "colab": {
      "provenance": []
    },
    "gpuClass": "standard",
    "kernelspec": {
      "display_name": "Python 3",
      "name": "python3"
    },
    "language_info": {
      "name": "python"
    }
  },
  "nbformat": 4,
  "nbformat_minor": 0
}