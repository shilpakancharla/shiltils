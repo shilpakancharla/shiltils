{
  "nbformat": 4,
  "nbformat_minor": 0,
  "metadata": {
    "colab": {
      "provenance": []
    },
    "kernelspec": {
      "name": "python3",
      "display_name": "Python 3"
    },
    "language_info": {
      "name": "python"
    },
    "accelerator": "GPU",
    "gpuClass": "premium",
    "widgets": {
      "application/vnd.jupyter.widget-state+json": {
        "768570aa1d8144e89187f449bc97d40d": {
          "model_module": "@jupyter-widgets/controls",
          "model_name": "HBoxModel",
          "model_module_version": "1.5.0",
          "state": {
            "_dom_classes": [],
            "_model_module": "@jupyter-widgets/controls",
            "_model_module_version": "1.5.0",
            "_model_name": "HBoxModel",
            "_view_count": null,
            "_view_module": "@jupyter-widgets/controls",
            "_view_module_version": "1.5.0",
            "_view_name": "HBoxView",
            "box_style": "",
            "children": [
              "IPY_MODEL_471555dc111d4788b3da845e86dc4787",
              "IPY_MODEL_e0b815532c43419ea6195fb454395852",
              "IPY_MODEL_218f55f11d344f30a173106a948fb606"
            ],
            "layout": "IPY_MODEL_dd00a60a7fe543ef9c6197b00547310e"
          }
        },
        "471555dc111d4788b3da845e86dc4787": {
          "model_module": "@jupyter-widgets/controls",
          "model_name": "HTMLModel",
          "model_module_version": "1.5.0",
          "state": {
            "_dom_classes": [],
            "_model_module": "@jupyter-widgets/controls",
            "_model_module_version": "1.5.0",
            "_model_name": "HTMLModel",
            "_view_count": null,
            "_view_module": "@jupyter-widgets/controls",
            "_view_module_version": "1.5.0",
            "_view_name": "HTMLView",
            "description": "",
            "description_tooltip": null,
            "layout": "IPY_MODEL_de00234e09d34a07942de55a53fc9786",
            "placeholder": "​",
            "style": "IPY_MODEL_d7edde7cb62e4811b7272c97601a87d6",
            "value": "Generating splits...: 100%"
          }
        },
        "e0b815532c43419ea6195fb454395852": {
          "model_module": "@jupyter-widgets/controls",
          "model_name": "FloatProgressModel",
          "model_module_version": "1.5.0",
          "state": {
            "_dom_classes": [],
            "_model_module": "@jupyter-widgets/controls",
            "_model_module_version": "1.5.0",
            "_model_name": "FloatProgressModel",
            "_view_count": null,
            "_view_module": "@jupyter-widgets/controls",
            "_view_module_version": "1.5.0",
            "_view_name": "ProgressView",
            "bar_style": "",
            "description": "",
            "description_tooltip": null,
            "layout": "IPY_MODEL_bffbffa26acc4b3d985df1aea1120410",
            "max": 2,
            "min": 0,
            "orientation": "horizontal",
            "style": "IPY_MODEL_da4b625943b1454e98a96ab7ad2a44e3",
            "value": 2
          }
        },
        "218f55f11d344f30a173106a948fb606": {
          "model_module": "@jupyter-widgets/controls",
          "model_name": "HTMLModel",
          "model_module_version": "1.5.0",
          "state": {
            "_dom_classes": [],
            "_model_module": "@jupyter-widgets/controls",
            "_model_module_version": "1.5.0",
            "_model_name": "HTMLModel",
            "_view_count": null,
            "_view_module": "@jupyter-widgets/controls",
            "_view_module_version": "1.5.0",
            "_view_name": "HTMLView",
            "description": "",
            "description_tooltip": null,
            "layout": "IPY_MODEL_61b35fc4de044eac837fe9c4323ce82b",
            "placeholder": "​",
            "style": "IPY_MODEL_37e1c0cc634a4096952277f1c334ecfe",
            "value": " 2/2 [01:57&lt;00:00, 52.68s/ splits]"
          }
        },
        "dd00a60a7fe543ef9c6197b00547310e": {
          "model_module": "@jupyter-widgets/base",
          "model_name": "LayoutModel",
          "model_module_version": "1.2.0",
          "state": {
            "_model_module": "@jupyter-widgets/base",
            "_model_module_version": "1.2.0",
            "_model_name": "LayoutModel",
            "_view_count": null,
            "_view_module": "@jupyter-widgets/base",
            "_view_module_version": "1.2.0",
            "_view_name": "LayoutView",
            "align_content": null,
            "align_items": null,
            "align_self": null,
            "border": null,
            "bottom": null,
            "display": null,
            "flex": null,
            "flex_flow": null,
            "grid_area": null,
            "grid_auto_columns": null,
            "grid_auto_flow": null,
            "grid_auto_rows": null,
            "grid_column": null,
            "grid_gap": null,
            "grid_row": null,
            "grid_template_areas": null,
            "grid_template_columns": null,
            "grid_template_rows": null,
            "height": null,
            "justify_content": null,
            "justify_items": null,
            "left": null,
            "margin": null,
            "max_height": null,
            "max_width": null,
            "min_height": null,
            "min_width": null,
            "object_fit": null,
            "object_position": null,
            "order": null,
            "overflow": null,
            "overflow_x": null,
            "overflow_y": null,
            "padding": null,
            "right": null,
            "top": null,
            "visibility": "hidden",
            "width": null
          }
        },
        "de00234e09d34a07942de55a53fc9786": {
          "model_module": "@jupyter-widgets/base",
          "model_name": "LayoutModel",
          "model_module_version": "1.2.0",
          "state": {
            "_model_module": "@jupyter-widgets/base",
            "_model_module_version": "1.2.0",
            "_model_name": "LayoutModel",
            "_view_count": null,
            "_view_module": "@jupyter-widgets/base",
            "_view_module_version": "1.2.0",
            "_view_name": "LayoutView",
            "align_content": null,
            "align_items": null,
            "align_self": null,
            "border": null,
            "bottom": null,
            "display": null,
            "flex": null,
            "flex_flow": null,
            "grid_area": null,
            "grid_auto_columns": null,
            "grid_auto_flow": null,
            "grid_auto_rows": null,
            "grid_column": null,
            "grid_gap": null,
            "grid_row": null,
            "grid_template_areas": null,
            "grid_template_columns": null,
            "grid_template_rows": null,
            "height": null,
            "justify_content": null,
            "justify_items": null,
            "left": null,
            "margin": null,
            "max_height": null,
            "max_width": null,
            "min_height": null,
            "min_width": null,
            "object_fit": null,
            "object_position": null,
            "order": null,
            "overflow": null,
            "overflow_x": null,
            "overflow_y": null,
            "padding": null,
            "right": null,
            "top": null,
            "visibility": null,
            "width": null
          }
        },
        "d7edde7cb62e4811b7272c97601a87d6": {
          "model_module": "@jupyter-widgets/controls",
          "model_name": "DescriptionStyleModel",
          "model_module_version": "1.5.0",
          "state": {
            "_model_module": "@jupyter-widgets/controls",
            "_model_module_version": "1.5.0",
            "_model_name": "DescriptionStyleModel",
            "_view_count": null,
            "_view_module": "@jupyter-widgets/base",
            "_view_module_version": "1.2.0",
            "_view_name": "StyleView",
            "description_width": ""
          }
        },
        "bffbffa26acc4b3d985df1aea1120410": {
          "model_module": "@jupyter-widgets/base",
          "model_name": "LayoutModel",
          "model_module_version": "1.2.0",
          "state": {
            "_model_module": "@jupyter-widgets/base",
            "_model_module_version": "1.2.0",
            "_model_name": "LayoutModel",
            "_view_count": null,
            "_view_module": "@jupyter-widgets/base",
            "_view_module_version": "1.2.0",
            "_view_name": "LayoutView",
            "align_content": null,
            "align_items": null,
            "align_self": null,
            "border": null,
            "bottom": null,
            "display": null,
            "flex": null,
            "flex_flow": null,
            "grid_area": null,
            "grid_auto_columns": null,
            "grid_auto_flow": null,
            "grid_auto_rows": null,
            "grid_column": null,
            "grid_gap": null,
            "grid_row": null,
            "grid_template_areas": null,
            "grid_template_columns": null,
            "grid_template_rows": null,
            "height": null,
            "justify_content": null,
            "justify_items": null,
            "left": null,
            "margin": null,
            "max_height": null,
            "max_width": null,
            "min_height": null,
            "min_width": null,
            "object_fit": null,
            "object_position": null,
            "order": null,
            "overflow": null,
            "overflow_x": null,
            "overflow_y": null,
            "padding": null,
            "right": null,
            "top": null,
            "visibility": null,
            "width": null
          }
        },
        "da4b625943b1454e98a96ab7ad2a44e3": {
          "model_module": "@jupyter-widgets/controls",
          "model_name": "ProgressStyleModel",
          "model_module_version": "1.5.0",
          "state": {
            "_model_module": "@jupyter-widgets/controls",
            "_model_module_version": "1.5.0",
            "_model_name": "ProgressStyleModel",
            "_view_count": null,
            "_view_module": "@jupyter-widgets/base",
            "_view_module_version": "1.2.0",
            "_view_name": "StyleView",
            "bar_color": null,
            "description_width": ""
          }
        },
        "61b35fc4de044eac837fe9c4323ce82b": {
          "model_module": "@jupyter-widgets/base",
          "model_name": "LayoutModel",
          "model_module_version": "1.2.0",
          "state": {
            "_model_module": "@jupyter-widgets/base",
            "_model_module_version": "1.2.0",
            "_model_name": "LayoutModel",
            "_view_count": null,
            "_view_module": "@jupyter-widgets/base",
            "_view_module_version": "1.2.0",
            "_view_name": "LayoutView",
            "align_content": null,
            "align_items": null,
            "align_self": null,
            "border": null,
            "bottom": null,
            "display": null,
            "flex": null,
            "flex_flow": null,
            "grid_area": null,
            "grid_auto_columns": null,
            "grid_auto_flow": null,
            "grid_auto_rows": null,
            "grid_column": null,
            "grid_gap": null,
            "grid_row": null,
            "grid_template_areas": null,
            "grid_template_columns": null,
            "grid_template_rows": null,
            "height": null,
            "justify_content": null,
            "justify_items": null,
            "left": null,
            "margin": null,
            "max_height": null,
            "max_width": null,
            "min_height": null,
            "min_width": null,
            "object_fit": null,
            "object_position": null,
            "order": null,
            "overflow": null,
            "overflow_x": null,
            "overflow_y": null,
            "padding": null,
            "right": null,
            "top": null,
            "visibility": null,
            "width": null
          }
        },
        "37e1c0cc634a4096952277f1c334ecfe": {
          "model_module": "@jupyter-widgets/controls",
          "model_name": "DescriptionStyleModel",
          "model_module_version": "1.5.0",
          "state": {
            "_model_module": "@jupyter-widgets/controls",
            "_model_module_version": "1.5.0",
            "_model_name": "DescriptionStyleModel",
            "_view_count": null,
            "_view_module": "@jupyter-widgets/base",
            "_view_module_version": "1.2.0",
            "_view_name": "StyleView",
            "description_width": ""
          }
        },
        "329b27bf535b4d8688c9c7abedf47c9e": {
          "model_module": "@jupyter-widgets/controls",
          "model_name": "HBoxModel",
          "model_module_version": "1.5.0",
          "state": {
            "_dom_classes": [],
            "_model_module": "@jupyter-widgets/controls",
            "_model_module_version": "1.5.0",
            "_model_name": "HBoxModel",
            "_view_count": null,
            "_view_module": "@jupyter-widgets/controls",
            "_view_module_version": "1.5.0",
            "_view_name": "HBoxView",
            "box_style": "",
            "children": [
              "IPY_MODEL_d3c1abfa120f4eaa89c1db046baaaa2c",
              "IPY_MODEL_46a29b4c1a9448f08b48b0b592feb9fe",
              "IPY_MODEL_19232c5859a2427eb51e2ac31c6643a3"
            ],
            "layout": "IPY_MODEL_beb22d27a1a543da902df95e907126c2"
          }
        },
        "d3c1abfa120f4eaa89c1db046baaaa2c": {
          "model_module": "@jupyter-widgets/controls",
          "model_name": "HTMLModel",
          "model_module_version": "1.5.0",
          "state": {
            "_dom_classes": [],
            "_model_module": "@jupyter-widgets/controls",
            "_model_module_version": "1.5.0",
            "_model_name": "HTMLModel",
            "_view_count": null,
            "_view_module": "@jupyter-widgets/controls",
            "_view_module_version": "1.5.0",
            "_view_name": "HTMLView",
            "description": "",
            "description_tooltip": null,
            "layout": "IPY_MODEL_5a7e1089b7bd48a4aebd1be20cf2b73b",
            "placeholder": "​",
            "style": "IPY_MODEL_f66777fb91684b0fbd159ad6d6f99dc4",
            "value": "Generating train examples...: "
          }
        },
        "46a29b4c1a9448f08b48b0b592feb9fe": {
          "model_module": "@jupyter-widgets/controls",
          "model_name": "FloatProgressModel",
          "model_module_version": "1.5.0",
          "state": {
            "_dom_classes": [],
            "_model_module": "@jupyter-widgets/controls",
            "_model_module_version": "1.5.0",
            "_model_name": "FloatProgressModel",
            "_view_count": null,
            "_view_module": "@jupyter-widgets/controls",
            "_view_module_version": "1.5.0",
            "_view_name": "ProgressView",
            "bar_style": "info",
            "description": "",
            "description_tooltip": null,
            "layout": "IPY_MODEL_0b4d1148bc0f45809b7cbc8eb431bc89",
            "max": 1,
            "min": 0,
            "orientation": "horizontal",
            "style": "IPY_MODEL_2ccb67cb59e3447f95a0a9e09e8e0668",
            "value": 1
          }
        },
        "19232c5859a2427eb51e2ac31c6643a3": {
          "model_module": "@jupyter-widgets/controls",
          "model_name": "HTMLModel",
          "model_module_version": "1.5.0",
          "state": {
            "_dom_classes": [],
            "_model_module": "@jupyter-widgets/controls",
            "_model_module_version": "1.5.0",
            "_model_name": "HTMLModel",
            "_view_count": null,
            "_view_module": "@jupyter-widgets/controls",
            "_view_module_version": "1.5.0",
            "_view_name": "HTMLView",
            "description": "",
            "description_tooltip": null,
            "layout": "IPY_MODEL_0301d6d52f01488d967a12466e521307",
            "placeholder": "​",
            "style": "IPY_MODEL_ac160fb474964b789c271502d891eee3",
            "value": " 466/? [01:31&lt;00:00,  4.99 examples/s]"
          }
        },
        "beb22d27a1a543da902df95e907126c2": {
          "model_module": "@jupyter-widgets/base",
          "model_name": "LayoutModel",
          "model_module_version": "1.2.0",
          "state": {
            "_model_module": "@jupyter-widgets/base",
            "_model_module_version": "1.2.0",
            "_model_name": "LayoutModel",
            "_view_count": null,
            "_view_module": "@jupyter-widgets/base",
            "_view_module_version": "1.2.0",
            "_view_name": "LayoutView",
            "align_content": null,
            "align_items": null,
            "align_self": null,
            "border": null,
            "bottom": null,
            "display": null,
            "flex": null,
            "flex_flow": null,
            "grid_area": null,
            "grid_auto_columns": null,
            "grid_auto_flow": null,
            "grid_auto_rows": null,
            "grid_column": null,
            "grid_gap": null,
            "grid_row": null,
            "grid_template_areas": null,
            "grid_template_columns": null,
            "grid_template_rows": null,
            "height": null,
            "justify_content": null,
            "justify_items": null,
            "left": null,
            "margin": null,
            "max_height": null,
            "max_width": null,
            "min_height": null,
            "min_width": null,
            "object_fit": null,
            "object_position": null,
            "order": null,
            "overflow": null,
            "overflow_x": null,
            "overflow_y": null,
            "padding": null,
            "right": null,
            "top": null,
            "visibility": "hidden",
            "width": null
          }
        },
        "5a7e1089b7bd48a4aebd1be20cf2b73b": {
          "model_module": "@jupyter-widgets/base",
          "model_name": "LayoutModel",
          "model_module_version": "1.2.0",
          "state": {
            "_model_module": "@jupyter-widgets/base",
            "_model_module_version": "1.2.0",
            "_model_name": "LayoutModel",
            "_view_count": null,
            "_view_module": "@jupyter-widgets/base",
            "_view_module_version": "1.2.0",
            "_view_name": "LayoutView",
            "align_content": null,
            "align_items": null,
            "align_self": null,
            "border": null,
            "bottom": null,
            "display": null,
            "flex": null,
            "flex_flow": null,
            "grid_area": null,
            "grid_auto_columns": null,
            "grid_auto_flow": null,
            "grid_auto_rows": null,
            "grid_column": null,
            "grid_gap": null,
            "grid_row": null,
            "grid_template_areas": null,
            "grid_template_columns": null,
            "grid_template_rows": null,
            "height": null,
            "justify_content": null,
            "justify_items": null,
            "left": null,
            "margin": null,
            "max_height": null,
            "max_width": null,
            "min_height": null,
            "min_width": null,
            "object_fit": null,
            "object_position": null,
            "order": null,
            "overflow": null,
            "overflow_x": null,
            "overflow_y": null,
            "padding": null,
            "right": null,
            "top": null,
            "visibility": null,
            "width": null
          }
        },
        "f66777fb91684b0fbd159ad6d6f99dc4": {
          "model_module": "@jupyter-widgets/controls",
          "model_name": "DescriptionStyleModel",
          "model_module_version": "1.5.0",
          "state": {
            "_model_module": "@jupyter-widgets/controls",
            "_model_module_version": "1.5.0",
            "_model_name": "DescriptionStyleModel",
            "_view_count": null,
            "_view_module": "@jupyter-widgets/base",
            "_view_module_version": "1.2.0",
            "_view_name": "StyleView",
            "description_width": ""
          }
        },
        "0b4d1148bc0f45809b7cbc8eb431bc89": {
          "model_module": "@jupyter-widgets/base",
          "model_name": "LayoutModel",
          "model_module_version": "1.2.0",
          "state": {
            "_model_module": "@jupyter-widgets/base",
            "_model_module_version": "1.2.0",
            "_model_name": "LayoutModel",
            "_view_count": null,
            "_view_module": "@jupyter-widgets/base",
            "_view_module_version": "1.2.0",
            "_view_name": "LayoutView",
            "align_content": null,
            "align_items": null,
            "align_self": null,
            "border": null,
            "bottom": null,
            "display": null,
            "flex": null,
            "flex_flow": null,
            "grid_area": null,
            "grid_auto_columns": null,
            "grid_auto_flow": null,
            "grid_auto_rows": null,
            "grid_column": null,
            "grid_gap": null,
            "grid_row": null,
            "grid_template_areas": null,
            "grid_template_columns": null,
            "grid_template_rows": null,
            "height": null,
            "justify_content": null,
            "justify_items": null,
            "left": null,
            "margin": null,
            "max_height": null,
            "max_width": null,
            "min_height": null,
            "min_width": null,
            "object_fit": null,
            "object_position": null,
            "order": null,
            "overflow": null,
            "overflow_x": null,
            "overflow_y": null,
            "padding": null,
            "right": null,
            "top": null,
            "visibility": null,
            "width": "20px"
          }
        },
        "2ccb67cb59e3447f95a0a9e09e8e0668": {
          "model_module": "@jupyter-widgets/controls",
          "model_name": "ProgressStyleModel",
          "model_module_version": "1.5.0",
          "state": {
            "_model_module": "@jupyter-widgets/controls",
            "_model_module_version": "1.5.0",
            "_model_name": "ProgressStyleModel",
            "_view_count": null,
            "_view_module": "@jupyter-widgets/base",
            "_view_module_version": "1.2.0",
            "_view_name": "StyleView",
            "bar_color": null,
            "description_width": ""
          }
        },
        "0301d6d52f01488d967a12466e521307": {
          "model_module": "@jupyter-widgets/base",
          "model_name": "LayoutModel",
          "model_module_version": "1.2.0",
          "state": {
            "_model_module": "@jupyter-widgets/base",
            "_model_module_version": "1.2.0",
            "_model_name": "LayoutModel",
            "_view_count": null,
            "_view_module": "@jupyter-widgets/base",
            "_view_module_version": "1.2.0",
            "_view_name": "LayoutView",
            "align_content": null,
            "align_items": null,
            "align_self": null,
            "border": null,
            "bottom": null,
            "display": null,
            "flex": null,
            "flex_flow": null,
            "grid_area": null,
            "grid_auto_columns": null,
            "grid_auto_flow": null,
            "grid_auto_rows": null,
            "grid_column": null,
            "grid_gap": null,
            "grid_row": null,
            "grid_template_areas": null,
            "grid_template_columns": null,
            "grid_template_rows": null,
            "height": null,
            "justify_content": null,
            "justify_items": null,
            "left": null,
            "margin": null,
            "max_height": null,
            "max_width": null,
            "min_height": null,
            "min_width": null,
            "object_fit": null,
            "object_position": null,
            "order": null,
            "overflow": null,
            "overflow_x": null,
            "overflow_y": null,
            "padding": null,
            "right": null,
            "top": null,
            "visibility": null,
            "width": null
          }
        },
        "ac160fb474964b789c271502d891eee3": {
          "model_module": "@jupyter-widgets/controls",
          "model_name": "DescriptionStyleModel",
          "model_module_version": "1.5.0",
          "state": {
            "_model_module": "@jupyter-widgets/controls",
            "_model_module_version": "1.5.0",
            "_model_name": "DescriptionStyleModel",
            "_view_count": null,
            "_view_module": "@jupyter-widgets/base",
            "_view_module_version": "1.2.0",
            "_view_name": "StyleView",
            "description_width": ""
          }
        },
        "04fb75b75a6e4c80b0fd24aacf0dc20f": {
          "model_module": "@jupyter-widgets/controls",
          "model_name": "HBoxModel",
          "model_module_version": "1.5.0",
          "state": {
            "_dom_classes": [],
            "_model_module": "@jupyter-widgets/controls",
            "_model_module_version": "1.5.0",
            "_model_name": "HBoxModel",
            "_view_count": null,
            "_view_module": "@jupyter-widgets/controls",
            "_view_module_version": "1.5.0",
            "_view_name": "HBoxView",
            "box_style": "",
            "children": [
              "IPY_MODEL_60a8b7f1078148a19292c62cd88e7d0c",
              "IPY_MODEL_2c61700b9ab94b21afbfbcc3fcdc244d",
              "IPY_MODEL_db685149c13548f7b27d94534e8b2131"
            ],
            "layout": "IPY_MODEL_fc4138db8ad541698167e3f85da4d07f"
          }
        },
        "60a8b7f1078148a19292c62cd88e7d0c": {
          "model_module": "@jupyter-widgets/controls",
          "model_name": "HTMLModel",
          "model_module_version": "1.5.0",
          "state": {
            "_dom_classes": [],
            "_model_module": "@jupyter-widgets/controls",
            "_model_module_version": "1.5.0",
            "_model_name": "HTMLModel",
            "_view_count": null,
            "_view_module": "@jupyter-widgets/controls",
            "_view_module_version": "1.5.0",
            "_view_name": "HTMLView",
            "description": "",
            "description_tooltip": null,
            "layout": "IPY_MODEL_4706eea2d10549a5bd1dea1c1ef99b2d",
            "placeholder": "​",
            "style": "IPY_MODEL_b38161f31aaa4d10a15add67e043403a",
            "value": "Shuffling /root/tensorflow_datasets/lisa_builder/1.0.0.incompleteZZ6OGA/lisa_builder-train.tfrecord*...:  54%"
          }
        },
        "2c61700b9ab94b21afbfbcc3fcdc244d": {
          "model_module": "@jupyter-widgets/controls",
          "model_name": "FloatProgressModel",
          "model_module_version": "1.5.0",
          "state": {
            "_dom_classes": [],
            "_model_module": "@jupyter-widgets/controls",
            "_model_module_version": "1.5.0",
            "_model_name": "FloatProgressModel",
            "_view_count": null,
            "_view_module": "@jupyter-widgets/controls",
            "_view_module_version": "1.5.0",
            "_view_name": "ProgressView",
            "bar_style": "",
            "description": "",
            "description_tooltip": null,
            "layout": "IPY_MODEL_2391d0033f8940a88304aaa4d9041b42",
            "max": 466,
            "min": 0,
            "orientation": "horizontal",
            "style": "IPY_MODEL_b248bbfcc8b24855844fe8248a179233",
            "value": 466
          }
        },
        "db685149c13548f7b27d94534e8b2131": {
          "model_module": "@jupyter-widgets/controls",
          "model_name": "HTMLModel",
          "model_module_version": "1.5.0",
          "state": {
            "_dom_classes": [],
            "_model_module": "@jupyter-widgets/controls",
            "_model_module_version": "1.5.0",
            "_model_name": "HTMLModel",
            "_view_count": null,
            "_view_module": "@jupyter-widgets/controls",
            "_view_module_version": "1.5.0",
            "_view_name": "HTMLView",
            "description": "",
            "description_tooltip": null,
            "layout": "IPY_MODEL_e04fb4176e8d4234aa87d2aabc08db96",
            "placeholder": "​",
            "style": "IPY_MODEL_8cfb10fb0ce248b091310948b8090e6f",
            "value": " 251/466 [00:00&lt;00:00, 2498.84 examples/s]"
          }
        },
        "fc4138db8ad541698167e3f85da4d07f": {
          "model_module": "@jupyter-widgets/base",
          "model_name": "LayoutModel",
          "model_module_version": "1.2.0",
          "state": {
            "_model_module": "@jupyter-widgets/base",
            "_model_module_version": "1.2.0",
            "_model_name": "LayoutModel",
            "_view_count": null,
            "_view_module": "@jupyter-widgets/base",
            "_view_module_version": "1.2.0",
            "_view_name": "LayoutView",
            "align_content": null,
            "align_items": null,
            "align_self": null,
            "border": null,
            "bottom": null,
            "display": null,
            "flex": null,
            "flex_flow": null,
            "grid_area": null,
            "grid_auto_columns": null,
            "grid_auto_flow": null,
            "grid_auto_rows": null,
            "grid_column": null,
            "grid_gap": null,
            "grid_row": null,
            "grid_template_areas": null,
            "grid_template_columns": null,
            "grid_template_rows": null,
            "height": null,
            "justify_content": null,
            "justify_items": null,
            "left": null,
            "margin": null,
            "max_height": null,
            "max_width": null,
            "min_height": null,
            "min_width": null,
            "object_fit": null,
            "object_position": null,
            "order": null,
            "overflow": null,
            "overflow_x": null,
            "overflow_y": null,
            "padding": null,
            "right": null,
            "top": null,
            "visibility": "hidden",
            "width": null
          }
        },
        "4706eea2d10549a5bd1dea1c1ef99b2d": {
          "model_module": "@jupyter-widgets/base",
          "model_name": "LayoutModel",
          "model_module_version": "1.2.0",
          "state": {
            "_model_module": "@jupyter-widgets/base",
            "_model_module_version": "1.2.0",
            "_model_name": "LayoutModel",
            "_view_count": null,
            "_view_module": "@jupyter-widgets/base",
            "_view_module_version": "1.2.0",
            "_view_name": "LayoutView",
            "align_content": null,
            "align_items": null,
            "align_self": null,
            "border": null,
            "bottom": null,
            "display": null,
            "flex": null,
            "flex_flow": null,
            "grid_area": null,
            "grid_auto_columns": null,
            "grid_auto_flow": null,
            "grid_auto_rows": null,
            "grid_column": null,
            "grid_gap": null,
            "grid_row": null,
            "grid_template_areas": null,
            "grid_template_columns": null,
            "grid_template_rows": null,
            "height": null,
            "justify_content": null,
            "justify_items": null,
            "left": null,
            "margin": null,
            "max_height": null,
            "max_width": null,
            "min_height": null,
            "min_width": null,
            "object_fit": null,
            "object_position": null,
            "order": null,
            "overflow": null,
            "overflow_x": null,
            "overflow_y": null,
            "padding": null,
            "right": null,
            "top": null,
            "visibility": null,
            "width": null
          }
        },
        "b38161f31aaa4d10a15add67e043403a": {
          "model_module": "@jupyter-widgets/controls",
          "model_name": "DescriptionStyleModel",
          "model_module_version": "1.5.0",
          "state": {
            "_model_module": "@jupyter-widgets/controls",
            "_model_module_version": "1.5.0",
            "_model_name": "DescriptionStyleModel",
            "_view_count": null,
            "_view_module": "@jupyter-widgets/base",
            "_view_module_version": "1.2.0",
            "_view_name": "StyleView",
            "description_width": ""
          }
        },
        "2391d0033f8940a88304aaa4d9041b42": {
          "model_module": "@jupyter-widgets/base",
          "model_name": "LayoutModel",
          "model_module_version": "1.2.0",
          "state": {
            "_model_module": "@jupyter-widgets/base",
            "_model_module_version": "1.2.0",
            "_model_name": "LayoutModel",
            "_view_count": null,
            "_view_module": "@jupyter-widgets/base",
            "_view_module_version": "1.2.0",
            "_view_name": "LayoutView",
            "align_content": null,
            "align_items": null,
            "align_self": null,
            "border": null,
            "bottom": null,
            "display": null,
            "flex": null,
            "flex_flow": null,
            "grid_area": null,
            "grid_auto_columns": null,
            "grid_auto_flow": null,
            "grid_auto_rows": null,
            "grid_column": null,
            "grid_gap": null,
            "grid_row": null,
            "grid_template_areas": null,
            "grid_template_columns": null,
            "grid_template_rows": null,
            "height": null,
            "justify_content": null,
            "justify_items": null,
            "left": null,
            "margin": null,
            "max_height": null,
            "max_width": null,
            "min_height": null,
            "min_width": null,
            "object_fit": null,
            "object_position": null,
            "order": null,
            "overflow": null,
            "overflow_x": null,
            "overflow_y": null,
            "padding": null,
            "right": null,
            "top": null,
            "visibility": null,
            "width": null
          }
        },
        "b248bbfcc8b24855844fe8248a179233": {
          "model_module": "@jupyter-widgets/controls",
          "model_name": "ProgressStyleModel",
          "model_module_version": "1.5.0",
          "state": {
            "_model_module": "@jupyter-widgets/controls",
            "_model_module_version": "1.5.0",
            "_model_name": "ProgressStyleModel",
            "_view_count": null,
            "_view_module": "@jupyter-widgets/base",
            "_view_module_version": "1.2.0",
            "_view_name": "StyleView",
            "bar_color": null,
            "description_width": ""
          }
        },
        "e04fb4176e8d4234aa87d2aabc08db96": {
          "model_module": "@jupyter-widgets/base",
          "model_name": "LayoutModel",
          "model_module_version": "1.2.0",
          "state": {
            "_model_module": "@jupyter-widgets/base",
            "_model_module_version": "1.2.0",
            "_model_name": "LayoutModel",
            "_view_count": null,
            "_view_module": "@jupyter-widgets/base",
            "_view_module_version": "1.2.0",
            "_view_name": "LayoutView",
            "align_content": null,
            "align_items": null,
            "align_self": null,
            "border": null,
            "bottom": null,
            "display": null,
            "flex": null,
            "flex_flow": null,
            "grid_area": null,
            "grid_auto_columns": null,
            "grid_auto_flow": null,
            "grid_auto_rows": null,
            "grid_column": null,
            "grid_gap": null,
            "grid_row": null,
            "grid_template_areas": null,
            "grid_template_columns": null,
            "grid_template_rows": null,
            "height": null,
            "justify_content": null,
            "justify_items": null,
            "left": null,
            "margin": null,
            "max_height": null,
            "max_width": null,
            "min_height": null,
            "min_width": null,
            "object_fit": null,
            "object_position": null,
            "order": null,
            "overflow": null,
            "overflow_x": null,
            "overflow_y": null,
            "padding": null,
            "right": null,
            "top": null,
            "visibility": null,
            "width": null
          }
        },
        "8cfb10fb0ce248b091310948b8090e6f": {
          "model_module": "@jupyter-widgets/controls",
          "model_name": "DescriptionStyleModel",
          "model_module_version": "1.5.0",
          "state": {
            "_model_module": "@jupyter-widgets/controls",
            "_model_module_version": "1.5.0",
            "_model_name": "DescriptionStyleModel",
            "_view_count": null,
            "_view_module": "@jupyter-widgets/base",
            "_view_module_version": "1.2.0",
            "_view_name": "StyleView",
            "description_width": ""
          }
        },
        "d3470c602e0d4457ac621b4d63d0f186": {
          "model_module": "@jupyter-widgets/controls",
          "model_name": "HBoxModel",
          "model_module_version": "1.5.0",
          "state": {
            "_dom_classes": [],
            "_model_module": "@jupyter-widgets/controls",
            "_model_module_version": "1.5.0",
            "_model_name": "HBoxModel",
            "_view_count": null,
            "_view_module": "@jupyter-widgets/controls",
            "_view_module_version": "1.5.0",
            "_view_name": "HBoxView",
            "box_style": "",
            "children": [
              "IPY_MODEL_16222271b2c0447a96e4e3d2fb249f31",
              "IPY_MODEL_d0e9346edc03466bb11c88752b8c5dde",
              "IPY_MODEL_2bec8bbed903483fb153ecd1a765136c"
            ],
            "layout": "IPY_MODEL_3843f92636f64649b8de9d4450c01a73"
          }
        },
        "16222271b2c0447a96e4e3d2fb249f31": {
          "model_module": "@jupyter-widgets/controls",
          "model_name": "HTMLModel",
          "model_module_version": "1.5.0",
          "state": {
            "_dom_classes": [],
            "_model_module": "@jupyter-widgets/controls",
            "_model_module_version": "1.5.0",
            "_model_name": "HTMLModel",
            "_view_count": null,
            "_view_module": "@jupyter-widgets/controls",
            "_view_module_version": "1.5.0",
            "_view_name": "HTMLView",
            "description": "",
            "description_tooltip": null,
            "layout": "IPY_MODEL_1b272faf3b23422aa5a08176c3023d93",
            "placeholder": "​",
            "style": "IPY_MODEL_8f2523fa7e6247d790eac33cbeb1831b",
            "value": "Generating test examples...: "
          }
        },
        "d0e9346edc03466bb11c88752b8c5dde": {
          "model_module": "@jupyter-widgets/controls",
          "model_name": "FloatProgressModel",
          "model_module_version": "1.5.0",
          "state": {
            "_dom_classes": [],
            "_model_module": "@jupyter-widgets/controls",
            "_model_module_version": "1.5.0",
            "_model_name": "FloatProgressModel",
            "_view_count": null,
            "_view_module": "@jupyter-widgets/controls",
            "_view_module_version": "1.5.0",
            "_view_name": "ProgressView",
            "bar_style": "info",
            "description": "",
            "description_tooltip": null,
            "layout": "IPY_MODEL_c3f5b27c5f9f4d82b6291d19a7bfda5e",
            "max": 1,
            "min": 0,
            "orientation": "horizontal",
            "style": "IPY_MODEL_102f255eb3da4fafa315b68013826c4b",
            "value": 1
          }
        },
        "2bec8bbed903483fb153ecd1a765136c": {
          "model_module": "@jupyter-widgets/controls",
          "model_name": "HTMLModel",
          "model_module_version": "1.5.0",
          "state": {
            "_dom_classes": [],
            "_model_module": "@jupyter-widgets/controls",
            "_model_module_version": "1.5.0",
            "_model_name": "HTMLModel",
            "_view_count": null,
            "_view_module": "@jupyter-widgets/controls",
            "_view_module_version": "1.5.0",
            "_view_name": "HTMLView",
            "description": "",
            "description_tooltip": null,
            "layout": "IPY_MODEL_00586225f8e646079705289127ce6d95",
            "placeholder": "​",
            "style": "IPY_MODEL_c42af83d19a04d45830232099eef3d69",
            "value": " 117/? [00:25&lt;00:00,  8.39 examples/s]"
          }
        },
        "3843f92636f64649b8de9d4450c01a73": {
          "model_module": "@jupyter-widgets/base",
          "model_name": "LayoutModel",
          "model_module_version": "1.2.0",
          "state": {
            "_model_module": "@jupyter-widgets/base",
            "_model_module_version": "1.2.0",
            "_model_name": "LayoutModel",
            "_view_count": null,
            "_view_module": "@jupyter-widgets/base",
            "_view_module_version": "1.2.0",
            "_view_name": "LayoutView",
            "align_content": null,
            "align_items": null,
            "align_self": null,
            "border": null,
            "bottom": null,
            "display": null,
            "flex": null,
            "flex_flow": null,
            "grid_area": null,
            "grid_auto_columns": null,
            "grid_auto_flow": null,
            "grid_auto_rows": null,
            "grid_column": null,
            "grid_gap": null,
            "grid_row": null,
            "grid_template_areas": null,
            "grid_template_columns": null,
            "grid_template_rows": null,
            "height": null,
            "justify_content": null,
            "justify_items": null,
            "left": null,
            "margin": null,
            "max_height": null,
            "max_width": null,
            "min_height": null,
            "min_width": null,
            "object_fit": null,
            "object_position": null,
            "order": null,
            "overflow": null,
            "overflow_x": null,
            "overflow_y": null,
            "padding": null,
            "right": null,
            "top": null,
            "visibility": "hidden",
            "width": null
          }
        },
        "1b272faf3b23422aa5a08176c3023d93": {
          "model_module": "@jupyter-widgets/base",
          "model_name": "LayoutModel",
          "model_module_version": "1.2.0",
          "state": {
            "_model_module": "@jupyter-widgets/base",
            "_model_module_version": "1.2.0",
            "_model_name": "LayoutModel",
            "_view_count": null,
            "_view_module": "@jupyter-widgets/base",
            "_view_module_version": "1.2.0",
            "_view_name": "LayoutView",
            "align_content": null,
            "align_items": null,
            "align_self": null,
            "border": null,
            "bottom": null,
            "display": null,
            "flex": null,
            "flex_flow": null,
            "grid_area": null,
            "grid_auto_columns": null,
            "grid_auto_flow": null,
            "grid_auto_rows": null,
            "grid_column": null,
            "grid_gap": null,
            "grid_row": null,
            "grid_template_areas": null,
            "grid_template_columns": null,
            "grid_template_rows": null,
            "height": null,
            "justify_content": null,
            "justify_items": null,
            "left": null,
            "margin": null,
            "max_height": null,
            "max_width": null,
            "min_height": null,
            "min_width": null,
            "object_fit": null,
            "object_position": null,
            "order": null,
            "overflow": null,
            "overflow_x": null,
            "overflow_y": null,
            "padding": null,
            "right": null,
            "top": null,
            "visibility": null,
            "width": null
          }
        },
        "8f2523fa7e6247d790eac33cbeb1831b": {
          "model_module": "@jupyter-widgets/controls",
          "model_name": "DescriptionStyleModel",
          "model_module_version": "1.5.0",
          "state": {
            "_model_module": "@jupyter-widgets/controls",
            "_model_module_version": "1.5.0",
            "_model_name": "DescriptionStyleModel",
            "_view_count": null,
            "_view_module": "@jupyter-widgets/base",
            "_view_module_version": "1.2.0",
            "_view_name": "StyleView",
            "description_width": ""
          }
        },
        "c3f5b27c5f9f4d82b6291d19a7bfda5e": {
          "model_module": "@jupyter-widgets/base",
          "model_name": "LayoutModel",
          "model_module_version": "1.2.0",
          "state": {
            "_model_module": "@jupyter-widgets/base",
            "_model_module_version": "1.2.0",
            "_model_name": "LayoutModel",
            "_view_count": null,
            "_view_module": "@jupyter-widgets/base",
            "_view_module_version": "1.2.0",
            "_view_name": "LayoutView",
            "align_content": null,
            "align_items": null,
            "align_self": null,
            "border": null,
            "bottom": null,
            "display": null,
            "flex": null,
            "flex_flow": null,
            "grid_area": null,
            "grid_auto_columns": null,
            "grid_auto_flow": null,
            "grid_auto_rows": null,
            "grid_column": null,
            "grid_gap": null,
            "grid_row": null,
            "grid_template_areas": null,
            "grid_template_columns": null,
            "grid_template_rows": null,
            "height": null,
            "justify_content": null,
            "justify_items": null,
            "left": null,
            "margin": null,
            "max_height": null,
            "max_width": null,
            "min_height": null,
            "min_width": null,
            "object_fit": null,
            "object_position": null,
            "order": null,
            "overflow": null,
            "overflow_x": null,
            "overflow_y": null,
            "padding": null,
            "right": null,
            "top": null,
            "visibility": null,
            "width": "20px"
          }
        },
        "102f255eb3da4fafa315b68013826c4b": {
          "model_module": "@jupyter-widgets/controls",
          "model_name": "ProgressStyleModel",
          "model_module_version": "1.5.0",
          "state": {
            "_model_module": "@jupyter-widgets/controls",
            "_model_module_version": "1.5.0",
            "_model_name": "ProgressStyleModel",
            "_view_count": null,
            "_view_module": "@jupyter-widgets/base",
            "_view_module_version": "1.2.0",
            "_view_name": "StyleView",
            "bar_color": null,
            "description_width": ""
          }
        },
        "00586225f8e646079705289127ce6d95": {
          "model_module": "@jupyter-widgets/base",
          "model_name": "LayoutModel",
          "model_module_version": "1.2.0",
          "state": {
            "_model_module": "@jupyter-widgets/base",
            "_model_module_version": "1.2.0",
            "_model_name": "LayoutModel",
            "_view_count": null,
            "_view_module": "@jupyter-widgets/base",
            "_view_module_version": "1.2.0",
            "_view_name": "LayoutView",
            "align_content": null,
            "align_items": null,
            "align_self": null,
            "border": null,
            "bottom": null,
            "display": null,
            "flex": null,
            "flex_flow": null,
            "grid_area": null,
            "grid_auto_columns": null,
            "grid_auto_flow": null,
            "grid_auto_rows": null,
            "grid_column": null,
            "grid_gap": null,
            "grid_row": null,
            "grid_template_areas": null,
            "grid_template_columns": null,
            "grid_template_rows": null,
            "height": null,
            "justify_content": null,
            "justify_items": null,
            "left": null,
            "margin": null,
            "max_height": null,
            "max_width": null,
            "min_height": null,
            "min_width": null,
            "object_fit": null,
            "object_position": null,
            "order": null,
            "overflow": null,
            "overflow_x": null,
            "overflow_y": null,
            "padding": null,
            "right": null,
            "top": null,
            "visibility": null,
            "width": null
          }
        },
        "c42af83d19a04d45830232099eef3d69": {
          "model_module": "@jupyter-widgets/controls",
          "model_name": "DescriptionStyleModel",
          "model_module_version": "1.5.0",
          "state": {
            "_model_module": "@jupyter-widgets/controls",
            "_model_module_version": "1.5.0",
            "_model_name": "DescriptionStyleModel",
            "_view_count": null,
            "_view_module": "@jupyter-widgets/base",
            "_view_module_version": "1.2.0",
            "_view_name": "StyleView",
            "description_width": ""
          }
        },
        "bbe650ad2cf0438385240f6cc65e5bfb": {
          "model_module": "@jupyter-widgets/controls",
          "model_name": "HBoxModel",
          "model_module_version": "1.5.0",
          "state": {
            "_dom_classes": [],
            "_model_module": "@jupyter-widgets/controls",
            "_model_module_version": "1.5.0",
            "_model_name": "HBoxModel",
            "_view_count": null,
            "_view_module": "@jupyter-widgets/controls",
            "_view_module_version": "1.5.0",
            "_view_name": "HBoxView",
            "box_style": "",
            "children": [
              "IPY_MODEL_d5f95de324f34c6a9bc74e2f0810578c",
              "IPY_MODEL_2d14b75504804f97a9578af671775a8c",
              "IPY_MODEL_6fd320509c704408b23657e9bc9b0660"
            ],
            "layout": "IPY_MODEL_30597cc9376644f19a6c3b2ed27a0299"
          }
        },
        "d5f95de324f34c6a9bc74e2f0810578c": {
          "model_module": "@jupyter-widgets/controls",
          "model_name": "HTMLModel",
          "model_module_version": "1.5.0",
          "state": {
            "_dom_classes": [],
            "_model_module": "@jupyter-widgets/controls",
            "_model_module_version": "1.5.0",
            "_model_name": "HTMLModel",
            "_view_count": null,
            "_view_module": "@jupyter-widgets/controls",
            "_view_module_version": "1.5.0",
            "_view_name": "HTMLView",
            "description": "",
            "description_tooltip": null,
            "layout": "IPY_MODEL_e822a9eeb3a34ff08f8539eb5e013349",
            "placeholder": "​",
            "style": "IPY_MODEL_f38812bb69354ad899b9e03ce06dfb03",
            "value": "Shuffling /root/tensorflow_datasets/lisa_builder/1.0.0.incompleteZZ6OGA/lisa_builder-test.tfrecord*...:   0%"
          }
        },
        "2d14b75504804f97a9578af671775a8c": {
          "model_module": "@jupyter-widgets/controls",
          "model_name": "FloatProgressModel",
          "model_module_version": "1.5.0",
          "state": {
            "_dom_classes": [],
            "_model_module": "@jupyter-widgets/controls",
            "_model_module_version": "1.5.0",
            "_model_name": "FloatProgressModel",
            "_view_count": null,
            "_view_module": "@jupyter-widgets/controls",
            "_view_module_version": "1.5.0",
            "_view_name": "ProgressView",
            "bar_style": "",
            "description": "",
            "description_tooltip": null,
            "layout": "IPY_MODEL_c2768b330b5e4ba5a5e96aadae764bff",
            "max": 117,
            "min": 0,
            "orientation": "horizontal",
            "style": "IPY_MODEL_5beca94527994c47856158495f9bf16b",
            "value": 117
          }
        },
        "6fd320509c704408b23657e9bc9b0660": {
          "model_module": "@jupyter-widgets/controls",
          "model_name": "HTMLModel",
          "model_module_version": "1.5.0",
          "state": {
            "_dom_classes": [],
            "_model_module": "@jupyter-widgets/controls",
            "_model_module_version": "1.5.0",
            "_model_name": "HTMLModel",
            "_view_count": null,
            "_view_module": "@jupyter-widgets/controls",
            "_view_module_version": "1.5.0",
            "_view_name": "HTMLView",
            "description": "",
            "description_tooltip": null,
            "layout": "IPY_MODEL_2e77f197f6e04fa993a1f1b3ec33e437",
            "placeholder": "​",
            "style": "IPY_MODEL_81ccc1e6b8834d12ba4d60d09cf82300",
            "value": " 0/117 [00:00&lt;?, ? examples/s]"
          }
        },
        "30597cc9376644f19a6c3b2ed27a0299": {
          "model_module": "@jupyter-widgets/base",
          "model_name": "LayoutModel",
          "model_module_version": "1.2.0",
          "state": {
            "_model_module": "@jupyter-widgets/base",
            "_model_module_version": "1.2.0",
            "_model_name": "LayoutModel",
            "_view_count": null,
            "_view_module": "@jupyter-widgets/base",
            "_view_module_version": "1.2.0",
            "_view_name": "LayoutView",
            "align_content": null,
            "align_items": null,
            "align_self": null,
            "border": null,
            "bottom": null,
            "display": null,
            "flex": null,
            "flex_flow": null,
            "grid_area": null,
            "grid_auto_columns": null,
            "grid_auto_flow": null,
            "grid_auto_rows": null,
            "grid_column": null,
            "grid_gap": null,
            "grid_row": null,
            "grid_template_areas": null,
            "grid_template_columns": null,
            "grid_template_rows": null,
            "height": null,
            "justify_content": null,
            "justify_items": null,
            "left": null,
            "margin": null,
            "max_height": null,
            "max_width": null,
            "min_height": null,
            "min_width": null,
            "object_fit": null,
            "object_position": null,
            "order": null,
            "overflow": null,
            "overflow_x": null,
            "overflow_y": null,
            "padding": null,
            "right": null,
            "top": null,
            "visibility": "hidden",
            "width": null
          }
        },
        "e822a9eeb3a34ff08f8539eb5e013349": {
          "model_module": "@jupyter-widgets/base",
          "model_name": "LayoutModel",
          "model_module_version": "1.2.0",
          "state": {
            "_model_module": "@jupyter-widgets/base",
            "_model_module_version": "1.2.0",
            "_model_name": "LayoutModel",
            "_view_count": null,
            "_view_module": "@jupyter-widgets/base",
            "_view_module_version": "1.2.0",
            "_view_name": "LayoutView",
            "align_content": null,
            "align_items": null,
            "align_self": null,
            "border": null,
            "bottom": null,
            "display": null,
            "flex": null,
            "flex_flow": null,
            "grid_area": null,
            "grid_auto_columns": null,
            "grid_auto_flow": null,
            "grid_auto_rows": null,
            "grid_column": null,
            "grid_gap": null,
            "grid_row": null,
            "grid_template_areas": null,
            "grid_template_columns": null,
            "grid_template_rows": null,
            "height": null,
            "justify_content": null,
            "justify_items": null,
            "left": null,
            "margin": null,
            "max_height": null,
            "max_width": null,
            "min_height": null,
            "min_width": null,
            "object_fit": null,
            "object_position": null,
            "order": null,
            "overflow": null,
            "overflow_x": null,
            "overflow_y": null,
            "padding": null,
            "right": null,
            "top": null,
            "visibility": null,
            "width": null
          }
        },
        "f38812bb69354ad899b9e03ce06dfb03": {
          "model_module": "@jupyter-widgets/controls",
          "model_name": "DescriptionStyleModel",
          "model_module_version": "1.5.0",
          "state": {
            "_model_module": "@jupyter-widgets/controls",
            "_model_module_version": "1.5.0",
            "_model_name": "DescriptionStyleModel",
            "_view_count": null,
            "_view_module": "@jupyter-widgets/base",
            "_view_module_version": "1.2.0",
            "_view_name": "StyleView",
            "description_width": ""
          }
        },
        "c2768b330b5e4ba5a5e96aadae764bff": {
          "model_module": "@jupyter-widgets/base",
          "model_name": "LayoutModel",
          "model_module_version": "1.2.0",
          "state": {
            "_model_module": "@jupyter-widgets/base",
            "_model_module_version": "1.2.0",
            "_model_name": "LayoutModel",
            "_view_count": null,
            "_view_module": "@jupyter-widgets/base",
            "_view_module_version": "1.2.0",
            "_view_name": "LayoutView",
            "align_content": null,
            "align_items": null,
            "align_self": null,
            "border": null,
            "bottom": null,
            "display": null,
            "flex": null,
            "flex_flow": null,
            "grid_area": null,
            "grid_auto_columns": null,
            "grid_auto_flow": null,
            "grid_auto_rows": null,
            "grid_column": null,
            "grid_gap": null,
            "grid_row": null,
            "grid_template_areas": null,
            "grid_template_columns": null,
            "grid_template_rows": null,
            "height": null,
            "justify_content": null,
            "justify_items": null,
            "left": null,
            "margin": null,
            "max_height": null,
            "max_width": null,
            "min_height": null,
            "min_width": null,
            "object_fit": null,
            "object_position": null,
            "order": null,
            "overflow": null,
            "overflow_x": null,
            "overflow_y": null,
            "padding": null,
            "right": null,
            "top": null,
            "visibility": null,
            "width": null
          }
        },
        "5beca94527994c47856158495f9bf16b": {
          "model_module": "@jupyter-widgets/controls",
          "model_name": "ProgressStyleModel",
          "model_module_version": "1.5.0",
          "state": {
            "_model_module": "@jupyter-widgets/controls",
            "_model_module_version": "1.5.0",
            "_model_name": "ProgressStyleModel",
            "_view_count": null,
            "_view_module": "@jupyter-widgets/base",
            "_view_module_version": "1.2.0",
            "_view_name": "StyleView",
            "bar_color": null,
            "description_width": ""
          }
        },
        "2e77f197f6e04fa993a1f1b3ec33e437": {
          "model_module": "@jupyter-widgets/base",
          "model_name": "LayoutModel",
          "model_module_version": "1.2.0",
          "state": {
            "_model_module": "@jupyter-widgets/base",
            "_model_module_version": "1.2.0",
            "_model_name": "LayoutModel",
            "_view_count": null,
            "_view_module": "@jupyter-widgets/base",
            "_view_module_version": "1.2.0",
            "_view_name": "LayoutView",
            "align_content": null,
            "align_items": null,
            "align_self": null,
            "border": null,
            "bottom": null,
            "display": null,
            "flex": null,
            "flex_flow": null,
            "grid_area": null,
            "grid_auto_columns": null,
            "grid_auto_flow": null,
            "grid_auto_rows": null,
            "grid_column": null,
            "grid_gap": null,
            "grid_row": null,
            "grid_template_areas": null,
            "grid_template_columns": null,
            "grid_template_rows": null,
            "height": null,
            "justify_content": null,
            "justify_items": null,
            "left": null,
            "margin": null,
            "max_height": null,
            "max_width": null,
            "min_height": null,
            "min_width": null,
            "object_fit": null,
            "object_position": null,
            "order": null,
            "overflow": null,
            "overflow_x": null,
            "overflow_y": null,
            "padding": null,
            "right": null,
            "top": null,
            "visibility": null,
            "width": null
          }
        },
        "81ccc1e6b8834d12ba4d60d09cf82300": {
          "model_module": "@jupyter-widgets/controls",
          "model_name": "DescriptionStyleModel",
          "model_module_version": "1.5.0",
          "state": {
            "_model_module": "@jupyter-widgets/controls",
            "_model_module_version": "1.5.0",
            "_model_name": "DescriptionStyleModel",
            "_view_count": null,
            "_view_module": "@jupyter-widgets/base",
            "_view_module_version": "1.2.0",
            "_view_name": "StyleView",
            "description_width": ""
          }
        }
      }
    }
  },
  "cells": [
    {
      "cell_type": "markdown",
      "source": [
        "# Object Detection\n",
        "\n",
        "Object detection is a computer vision task that allows us to identify and figure out the location of objects within an image or video. In particular, it could be used to track locations of objects in a scene and draws a box around the objects of interest. In this tutorial, we will be using the [LISA Traffic Sign Dataset](https://cvrr.ucsd.edu/lisa-traffic-signs-dataset), which is a set of videos and annotated frames containing US traffic signs. Here, we have it already split up into frames and annotated with the different bounding boxes of various traffic signs within each frame. Our goal is to train an object detection model to be able to identify the different traffic signs within the data.\n",
        "\n",
        "The KerasCV library contains various modular building blocks, including:\n",
        "\n",
        "* Layers\n",
        "* Metrics\n",
        "* Losses\n",
        "* Data augmentation\n",
        "\n",
        "You can use these modular building blocks to build your own object detection model."
      ],
      "metadata": {
        "id": "zXQ7Ih_hov-N"
      }
    },
    {
      "cell_type": "code",
      "source": [
        "rm -rf ./LISA/ # Remove the directory to save some space"
      ],
      "metadata": {
        "id": "uAlj5WmjEQpM"
      },
      "execution_count": 1,
      "outputs": []
    },
    {
      "cell_type": "code",
      "source": [
        "rm -rf ./LISA_processed/ # Clear the workspace to run through the tutorial"
      ],
      "metadata": {
        "id": "0BjBiUoGEfwo"
      },
      "execution_count": 2,
      "outputs": []
    },
    {
      "cell_type": "markdown",
      "source": [
        "## Set up\n",
        "\n",
        "Begin by installing and importing some necessary libraries, including: [KerasCV](https://keras.io/keras_cv/) for using bounding boxes and state-of-the-art computer vision models, [remotezip](https://github.com/gtsystem/python-remotezip) to inspect the contents of a ZIP file, and [tqdm](https://github.com/tqdm/tqdm) to use a progress bar. We will also install TensorFlow 2.11.0, which is compatible with KerasCV."
      ],
      "metadata": {
        "id": "9fI8Awjio77q"
      }
    },
    {
      "cell_type": "code",
      "execution_count": 3,
      "metadata": {
        "id": "HigjKOmdojNJ",
        "colab": {
          "base_uri": "https://localhost:8080/"
        },
        "outputId": "0f508230-57ae-4d98-c49a-3e5723d132ba"
      },
      "outputs": [
        {
          "output_type": "stream",
          "name": "stdout",
          "text": [
            "\u001b[?25l     \u001b[90m━━━━━━━━━━━━━━━━━━━━━━━━━━━━━━━━━━━━━━━━\u001b[0m \u001b[32m0.0/634.9 KB\u001b[0m \u001b[31m?\u001b[0m eta \u001b[36m-:--:--\u001b[0m\r\u001b[2K     \u001b[91m━━━━━━━━━━━━━━━━━\u001b[0m\u001b[91m╸\u001b[0m\u001b[90m━━━━━━━━━━━━━━━━━━━━━\u001b[0m \u001b[32m286.7/634.9 KB\u001b[0m \u001b[31m8.6 MB/s\u001b[0m eta \u001b[36m0:00:01\u001b[0m\r\u001b[2K     \u001b[90m━━━━━━━━━━━━━━━━━━━━━━━━━━━━━━━━━━━━━━\u001b[0m \u001b[32m634.9/634.9 KB\u001b[0m \u001b[31m11.0 MB/s\u001b[0m eta \u001b[36m0:00:00\u001b[0m\n",
            "\u001b[?25h  Preparing metadata (setup.py) ... \u001b[?25l\u001b[?25hdone\n",
            "\u001b[2K     \u001b[90m━━━━━━━━━━━━━━━━━━━━━━━━━━━━━━━━━━━━━━\u001b[0m \u001b[32m462.8/462.8 KB\u001b[0m \u001b[31m32.2 MB/s\u001b[0m eta \u001b[36m0:00:00\u001b[0m\n",
            "\u001b[2K     \u001b[90m━━━━━━━━━━━━━━━━━━━━━━━━━━━━━━━━━━━━━━\u001b[0m \u001b[32m132.0/132.0 KB\u001b[0m \u001b[31m11.8 MB/s\u001b[0m eta \u001b[36m0:00:00\u001b[0m\n",
            "\u001b[2K     \u001b[90m━━━━━━━━━━━━━━━━━━━━━━━━━━━━━━━━━━━━━━\u001b[0m \u001b[32m213.0/213.0 KB\u001b[0m \u001b[31m15.7 MB/s\u001b[0m eta \u001b[36m0:00:00\u001b[0m\n",
            "\u001b[2K     \u001b[90m━━━━━━━━━━━━━━━━━━━━━━━━━━━━━━━━━━━━━━\u001b[0m \u001b[32m190.3/190.3 KB\u001b[0m \u001b[31m18.6 MB/s\u001b[0m eta \u001b[36m0:00:00\u001b[0m\n",
            "\u001b[2K     \u001b[90m━━━━━━━━━━━━━━━━━━━━━━━━━━━━━━━━━━━━━━\u001b[0m \u001b[32m140.6/140.6 KB\u001b[0m \u001b[31m15.5 MB/s\u001b[0m eta \u001b[36m0:00:00\u001b[0m\n",
            "\u001b[?25h  Building wheel for remotezip (setup.py) ... \u001b[?25l\u001b[?25hdone\n"
          ]
        }
      ],
      "source": [
        "!pip install keras-cv remotezip tqdm datasets luketils --upgrade --quiet\n",
        "!pip install -U \"tensorflow==2.11.0\" --quiet"
      ]
    },
    {
      "cell_type": "code",
      "source": [
        "import os\n",
        "import PIL\n",
        "import tqdm\n",
        "import random\n",
        "import shutil\n",
        "import pathlib\n",
        "import numpy as np\n",
        "import pandas as pd\n",
        "import remotezip as rz\n",
        "\n",
        "import tensorflow as tf\n",
        "import tensorflow_datasets as tfds\n",
        "import keras\n",
        "import keras_cv\n",
        "import luketils\n",
        "\n",
        "import seaborn as sns\n",
        "import matplotlib.pyplot as plt\n",
        "from collections import Counter"
      ],
      "metadata": {
        "id": "rQZZqutnou9l",
        "colab": {
          "base_uri": "https://localhost:8080/"
        },
        "outputId": "3d8bd22e-11ea-4cd4-8b95-be01202f25a9"
      },
      "execution_count": 4,
      "outputs": [
        {
          "output_type": "stream",
          "name": "stdout",
          "text": [
            "You do not have Waymo Open Dataset installed, so KerasCV Waymo metrics are not available.\n"
          ]
        }
      ]
    },
    {
      "cell_type": "markdown",
      "source": [
        "## Prepare the dataset"
      ],
      "metadata": {
        "id": "Elcl4hZWpHui"
      }
    },
    {
      "cell_type": "code",
      "source": [
        "URL = 'https://storage.googleapis.com/download.tensorflow.org/data/lisa.zip'"
      ],
      "metadata": {
        "id": "b4ZQIhg7pG-B"
      },
      "execution_count": 5,
      "outputs": []
    },
    {
      "cell_type": "code",
      "source": [
        "def list_files_from_zip_url(zip_url):\n",
        "  \"\"\" List the files in each class of the dataset given a URL with the zip file.\n",
        "\n",
        "    Args:\n",
        "      zip_url: A URL from which the files can be extracted from.\n",
        "\n",
        "    Returns:\n",
        "      List of files in each of the classes.\n",
        "  \"\"\"\n",
        "  files = []\n",
        "  with rz.RemoteZip(zip_url) as zip:\n",
        "    for zip_info in zip.infolist():\n",
        "      files.append(zip_info.filename)\n",
        "  return files"
      ],
      "metadata": {
        "id": "umRsl6mrpKp7"
      },
      "execution_count": 6,
      "outputs": []
    },
    {
      "cell_type": "markdown",
      "source": [
        "List the files that have box annotations. We will use the directories listed here to do our image downloads later on."
      ],
      "metadata": {
        "id": "bnWF2u-apkIP"
      }
    },
    {
      "cell_type": "code",
      "source": [
        "annot_files = list_files_from_zip_url(URL)\n",
        "annot_files = [f for f in annot_files if f.endswith('.csv') and 'BOX' in f]\n",
        "annot_files"
      ],
      "metadata": {
        "colab": {
          "base_uri": "https://localhost:8080/"
        },
        "id": "hw68DZvKpiCB",
        "outputId": "087e7418-662a-415d-cf2c-4955d8c20a02"
      },
      "execution_count": 7,
      "outputs": [
        {
          "output_type": "execute_result",
          "data": {
            "text/plain": [
              "['Annotations/Annotations/daySequence1/frameAnnotationsBOX.csv',\n",
              " 'Annotations/Annotations/daySequence2/frameAnnotationsBOX.csv',\n",
              " 'Annotations/Annotations/dayTrain/dayClip1/frameAnnotationsBOX.csv',\n",
              " 'Annotations/Annotations/dayTrain/dayClip10/frameAnnotationsBOX.csv',\n",
              " 'Annotations/Annotations/dayTrain/dayClip11/frameAnnotationsBOX.csv',\n",
              " 'Annotations/Annotations/dayTrain/dayClip12/frameAnnotationsBOX.csv',\n",
              " 'Annotations/Annotations/dayTrain/dayClip13/frameAnnotationsBOX.csv',\n",
              " 'Annotations/Annotations/dayTrain/dayClip2/frameAnnotationsBOX.csv',\n",
              " 'Annotations/Annotations/dayTrain/dayClip3/frameAnnotationsBOX.csv',\n",
              " 'Annotations/Annotations/dayTrain/dayClip4/frameAnnotationsBOX.csv',\n",
              " 'Annotations/Annotations/dayTrain/dayClip5/frameAnnotationsBOX.csv',\n",
              " 'Annotations/Annotations/dayTrain/dayClip6/frameAnnotationsBOX.csv',\n",
              " 'Annotations/Annotations/dayTrain/dayClip7/frameAnnotationsBOX.csv',\n",
              " 'Annotations/Annotations/dayTrain/dayClip8/frameAnnotationsBOX.csv',\n",
              " 'Annotations/Annotations/dayTrain/dayClip9/frameAnnotationsBOX.csv',\n",
              " 'Annotations/Annotations/nightSequence1/frameAnnotationsBOX.csv',\n",
              " 'Annotations/Annotations/nightSequence2/frameAnnotationsBOX.csv',\n",
              " 'Annotations/Annotations/nightTrain/nightClip1/frameAnnotationsBOX.csv',\n",
              " 'Annotations/Annotations/nightTrain/nightClip2/frameAnnotationsBOX.csv',\n",
              " 'Annotations/Annotations/nightTrain/nightClip3/frameAnnotationsBOX.csv',\n",
              " 'Annotations/Annotations/nightTrain/nightClip4/frameAnnotationsBOX.csv',\n",
              " 'Annotations/Annotations/nightTrain/nightClip5/frameAnnotationsBOX.csv',\n",
              " 'sample-dayClip6/sample-dayClip6/frameAnnotationsBOX.csv',\n",
              " 'sample-nightClip1/sample-nightClip1/frameAnnotationsBOX.csv']"
            ]
          },
          "metadata": {},
          "execution_count": 7
        }
      ]
    },
    {
      "cell_type": "code",
      "source": [
        "img_files = list_files_from_zip_url(URL)\n",
        "img_files = [f for f in img_files if f.endswith('.jpg')]\n",
        "img_files[:10]"
      ],
      "metadata": {
        "colab": {
          "base_uri": "https://localhost:8080/"
        },
        "id": "-6Yj60xzpmPV",
        "outputId": "0123ea72-4905-4ce6-ed5e-5d8e9957f42b"
      },
      "execution_count": 8,
      "outputs": [
        {
          "output_type": "execute_result",
          "data": {
            "text/plain": [
              "['daySequence1/daySequence1/frames/daySequence1--00000.jpg',\n",
              " 'daySequence1/daySequence1/frames/daySequence1--00001.jpg',\n",
              " 'daySequence1/daySequence1/frames/daySequence1--00002.jpg',\n",
              " 'daySequence1/daySequence1/frames/daySequence1--00003.jpg',\n",
              " 'daySequence1/daySequence1/frames/daySequence1--00004.jpg',\n",
              " 'daySequence1/daySequence1/frames/daySequence1--00005.jpg',\n",
              " 'daySequence1/daySequence1/frames/daySequence1--00006.jpg',\n",
              " 'daySequence1/daySequence1/frames/daySequence1--00007.jpg',\n",
              " 'daySequence1/daySequence1/frames/daySequence1--00008.jpg',\n",
              " 'daySequence1/daySequence1/frames/daySequence1--00009.jpg']"
            ]
          },
          "metadata": {},
          "execution_count": 8
        }
      ]
    },
    {
      "cell_type": "markdown",
      "source": [
        "There are a lot of images to download, so let's take a subset of them."
      ],
      "metadata": {
        "id": "JTnxJR5ppsRH"
      }
    },
    {
      "cell_type": "code",
      "source": [
        "len(img_files)"
      ],
      "metadata": {
        "colab": {
          "base_uri": "https://localhost:8080/"
        },
        "id": "Rndw21xmppAI",
        "outputId": "7e5dbc08-cfc2-4ab7-a7a5-2a85fef74159"
      },
      "execution_count": 9,
      "outputs": [
        {
          "output_type": "execute_result",
          "data": {
            "text/plain": [
              "44075"
            ]
          },
          "metadata": {},
          "execution_count": 9
        }
      ]
    },
    {
      "cell_type": "code",
      "source": [
        "dir = [] # Get the names of the different directories\n",
        "for i in img_files:\n",
        "  if i.split('/')[1] not in dir:\n",
        "    dir.append(i.split('/')[1])\n",
        "\n",
        "img_files_subset = []\n",
        "count = {k:v for (k, v) in zip(dir, [0] * len(dir))}\n",
        "\n",
        "for filename in img_files:\n",
        "  for key in count:\n",
        "    if key in filename and count[key] < 100:\n",
        "      img_files_subset.append(filename)\n",
        "      count[key] += 1\n",
        "\n",
        "len(img_files_subset)"
      ],
      "metadata": {
        "colab": {
          "base_uri": "https://localhost:8080/"
        },
        "id": "4EVLGqAmptca",
        "outputId": "8b7a62a5-f556-409c-b75d-ddc612cae3b7"
      },
      "execution_count": 10,
      "outputs": [
        {
          "output_type": "execute_result",
          "data": {
            "text/plain": [
              "800"
            ]
          },
          "metadata": {},
          "execution_count": 10
        }
      ]
    },
    {
      "cell_type": "markdown",
      "source": [
        "### Download the annotations"
      ],
      "metadata": {
        "id": "0AaLpYLvxY3s"
      }
    },
    {
      "cell_type": "code",
      "source": [
        "def download_annotations(zip_url, annot_files, download_dir):\n",
        "  with rz.RemoteZip(zip_url) as zip:\n",
        "    for fn in tqdm.tqdm(annot_files):\n",
        "      zip.extract(fn, str(download_dir))"
      ],
      "metadata": {
        "id": "gddAvLFaqemu"
      },
      "execution_count": 11,
      "outputs": []
    },
    {
      "cell_type": "code",
      "source": [
        "download_dir = pathlib.Path('./LISA/')\n",
        "download_annotations(URL, annot_files, download_dir)"
      ],
      "metadata": {
        "colab": {
          "base_uri": "https://localhost:8080/"
        },
        "id": "PuQkk7yVqpke",
        "outputId": "57f660be-57fe-4242-b936-49222cd2e993"
      },
      "execution_count": 12,
      "outputs": [
        {
          "output_type": "stream",
          "name": "stderr",
          "text": [
            "100%|██████████| 24/24 [00:01<00:00, 14.29it/s]\n"
          ]
        }
      ]
    },
    {
      "cell_type": "code",
      "source": [
        "new_annot_path = './LISA_processed/annotations/'\n",
        "os.makedirs(new_annot_path)\n",
        "for path in download_dir.rglob(\"*.csv\"):\n",
        "  dir_name = str(path).split('/')[-2]\n",
        "  new_file_name = new_annot_path + path.name.replace('.csv', '_' + dir_name + '.csv')\n",
        "  shutil.move(str(path), new_file_name)"
      ],
      "metadata": {
        "id": "jchIhepGtc_V"
      },
      "execution_count": 13,
      "outputs": []
    },
    {
      "cell_type": "code",
      "source": [
        "rm -rf ./LISA # Remove the directory to save some space"
      ],
      "metadata": {
        "id": "YRtUIAGnuuhB"
      },
      "execution_count": 14,
      "outputs": []
    },
    {
      "cell_type": "markdown",
      "source": [
        "### Download the images"
      ],
      "metadata": {
        "id": "owuvJ4JCxbE-"
      }
    },
    {
      "cell_type": "code",
      "source": [
        "def download_images(zip_url, img_files, download_dir):\n",
        "  with rz.RemoteZip(zip_url) as zip:\n",
        "    for fn in tqdm.tqdm(img_files):\n",
        "      zip.extract(fn, str(download_dir))"
      ],
      "metadata": {
        "id": "E11t3tKjtPxU"
      },
      "execution_count": 15,
      "outputs": []
    },
    {
      "cell_type": "code",
      "source": [
        "download_images(URL, img_files_subset, download_dir)"
      ],
      "metadata": {
        "colab": {
          "base_uri": "https://localhost:8080/"
        },
        "id": "pFw3C17nzdu-",
        "outputId": "7ae53ec9-40e1-4ce4-be7b-ab31e9ef1357"
      },
      "execution_count": 16,
      "outputs": [
        {
          "output_type": "stream",
          "name": "stderr",
          "text": [
            "100%|██████████| 800/800 [00:46<00:00, 17.09it/s]\n"
          ]
        }
      ]
    },
    {
      "cell_type": "code",
      "source": [
        "new_img_path = './LISA_processed/images/'\n",
        "os.makedirs(new_img_path)\n",
        "for path in download_dir.rglob(\"*.jpg\"):\n",
        "  new_file_name = new_img_path + path.name\n",
        "  shutil.move(str(path), new_file_name)"
      ],
      "metadata": {
        "id": "b7JrifP-zf8t"
      },
      "execution_count": 17,
      "outputs": []
    },
    {
      "cell_type": "code",
      "source": [
        "rm -rf ./LISA/ # Remove the directory to save some space"
      ],
      "metadata": {
        "id": "H7jjBYlp0kgm"
      },
      "execution_count": 18,
      "outputs": []
    },
    {
      "cell_type": "markdown",
      "source": [
        "### What does the annotation file look like?\n",
        "\n",
        "Based on our current data preparation, let's take a look at what one of the annotation files look like. The first column of the annotation `.csv` file is the name of the file, and the second column is what the annotation is tagged as. Following this information, we have the upper left corner (x, y) coordinates and the lower right corner (x, y) coordinates.\n",
        "\n"
      ],
      "metadata": {
        "id": "lw_nU0EGGhbJ"
      }
    },
    {
      "cell_type": "code",
      "source": [
        "df = pd.read_csv(new_annot_path + 'frameAnnotationsBOX_dayClip1.csv',\n",
        "                 delimiter=';').drop(['Origin file', 'Origin frame number',\n",
        "                                      'Origin track', 'Origin track frame number'], axis=1)\n",
        "df"
      ],
      "metadata": {
        "colab": {
          "base_uri": "https://localhost:8080/",
          "height": 424
        },
        "id": "egzNuo64Gkzu",
        "outputId": "f70f02c2-590f-4926-ef9d-094bb9251225"
      },
      "execution_count": 19,
      "outputs": [
        {
          "output_type": "execute_result",
          "data": {
            "text/plain": [
              "                             Filename Annotation tag  Upper left corner X  \\\n",
              "0     dayTraining/dayClip1--00000.jpg             go                  698   \n",
              "1     dayTraining/dayClip1--00000.jpg             go                  846   \n",
              "2     dayTraining/dayClip1--00001.jpg             go                  698   \n",
              "3     dayTraining/dayClip1--00001.jpg             go                  847   \n",
              "4     dayTraining/dayClip1--00002.jpg             go                  698   \n",
              "...                               ...            ...                  ...   \n",
              "7974  dayTraining/dayClip1--02160.jpg             go                  660   \n",
              "7975  dayTraining/dayClip1--02160.jpg             go                  777   \n",
              "7976  dayTraining/dayClip1--02160.jpg             go                  838   \n",
              "7977  dayTraining/dayClip1--02160.jpg             go                  987   \n",
              "7978  dayTraining/dayClip1--02160.jpg             go                 1157   \n",
              "\n",
              "      Upper left corner Y  Lower right corner X  Lower right corner Y  \n",
              "0                     333                   710                   358  \n",
              "1                     391                   858                   411  \n",
              "2                     337                   710                   357  \n",
              "3                     390                   859                   410  \n",
              "4                     331                   710                   356  \n",
              "...                   ...                   ...                   ...  \n",
              "7974                  322                   672                   342  \n",
              "7975                  351                   792                   376  \n",
              "7976                  174                   868                   234  \n",
              "7977                  213                  1014                   263  \n",
              "7978                  293                  1181                   338  \n",
              "\n",
              "[7979 rows x 6 columns]"
            ],
            "text/html": [
              "\n",
              "  <div id=\"df-74fff93a-ddf0-4a75-890f-4b1ea7b54741\">\n",
              "    <div class=\"colab-df-container\">\n",
              "      <div>\n",
              "<style scoped>\n",
              "    .dataframe tbody tr th:only-of-type {\n",
              "        vertical-align: middle;\n",
              "    }\n",
              "\n",
              "    .dataframe tbody tr th {\n",
              "        vertical-align: top;\n",
              "    }\n",
              "\n",
              "    .dataframe thead th {\n",
              "        text-align: right;\n",
              "    }\n",
              "</style>\n",
              "<table border=\"1\" class=\"dataframe\">\n",
              "  <thead>\n",
              "    <tr style=\"text-align: right;\">\n",
              "      <th></th>\n",
              "      <th>Filename</th>\n",
              "      <th>Annotation tag</th>\n",
              "      <th>Upper left corner X</th>\n",
              "      <th>Upper left corner Y</th>\n",
              "      <th>Lower right corner X</th>\n",
              "      <th>Lower right corner Y</th>\n",
              "    </tr>\n",
              "  </thead>\n",
              "  <tbody>\n",
              "    <tr>\n",
              "      <th>0</th>\n",
              "      <td>dayTraining/dayClip1--00000.jpg</td>\n",
              "      <td>go</td>\n",
              "      <td>698</td>\n",
              "      <td>333</td>\n",
              "      <td>710</td>\n",
              "      <td>358</td>\n",
              "    </tr>\n",
              "    <tr>\n",
              "      <th>1</th>\n",
              "      <td>dayTraining/dayClip1--00000.jpg</td>\n",
              "      <td>go</td>\n",
              "      <td>846</td>\n",
              "      <td>391</td>\n",
              "      <td>858</td>\n",
              "      <td>411</td>\n",
              "    </tr>\n",
              "    <tr>\n",
              "      <th>2</th>\n",
              "      <td>dayTraining/dayClip1--00001.jpg</td>\n",
              "      <td>go</td>\n",
              "      <td>698</td>\n",
              "      <td>337</td>\n",
              "      <td>710</td>\n",
              "      <td>357</td>\n",
              "    </tr>\n",
              "    <tr>\n",
              "      <th>3</th>\n",
              "      <td>dayTraining/dayClip1--00001.jpg</td>\n",
              "      <td>go</td>\n",
              "      <td>847</td>\n",
              "      <td>390</td>\n",
              "      <td>859</td>\n",
              "      <td>410</td>\n",
              "    </tr>\n",
              "    <tr>\n",
              "      <th>4</th>\n",
              "      <td>dayTraining/dayClip1--00002.jpg</td>\n",
              "      <td>go</td>\n",
              "      <td>698</td>\n",
              "      <td>331</td>\n",
              "      <td>710</td>\n",
              "      <td>356</td>\n",
              "    </tr>\n",
              "    <tr>\n",
              "      <th>...</th>\n",
              "      <td>...</td>\n",
              "      <td>...</td>\n",
              "      <td>...</td>\n",
              "      <td>...</td>\n",
              "      <td>...</td>\n",
              "      <td>...</td>\n",
              "    </tr>\n",
              "    <tr>\n",
              "      <th>7974</th>\n",
              "      <td>dayTraining/dayClip1--02160.jpg</td>\n",
              "      <td>go</td>\n",
              "      <td>660</td>\n",
              "      <td>322</td>\n",
              "      <td>672</td>\n",
              "      <td>342</td>\n",
              "    </tr>\n",
              "    <tr>\n",
              "      <th>7975</th>\n",
              "      <td>dayTraining/dayClip1--02160.jpg</td>\n",
              "      <td>go</td>\n",
              "      <td>777</td>\n",
              "      <td>351</td>\n",
              "      <td>792</td>\n",
              "      <td>376</td>\n",
              "    </tr>\n",
              "    <tr>\n",
              "      <th>7976</th>\n",
              "      <td>dayTraining/dayClip1--02160.jpg</td>\n",
              "      <td>go</td>\n",
              "      <td>838</td>\n",
              "      <td>174</td>\n",
              "      <td>868</td>\n",
              "      <td>234</td>\n",
              "    </tr>\n",
              "    <tr>\n",
              "      <th>7977</th>\n",
              "      <td>dayTraining/dayClip1--02160.jpg</td>\n",
              "      <td>go</td>\n",
              "      <td>987</td>\n",
              "      <td>213</td>\n",
              "      <td>1014</td>\n",
              "      <td>263</td>\n",
              "    </tr>\n",
              "    <tr>\n",
              "      <th>7978</th>\n",
              "      <td>dayTraining/dayClip1--02160.jpg</td>\n",
              "      <td>go</td>\n",
              "      <td>1157</td>\n",
              "      <td>293</td>\n",
              "      <td>1181</td>\n",
              "      <td>338</td>\n",
              "    </tr>\n",
              "  </tbody>\n",
              "</table>\n",
              "<p>7979 rows × 6 columns</p>\n",
              "</div>\n",
              "      <button class=\"colab-df-convert\" onclick=\"convertToInteractive('df-74fff93a-ddf0-4a75-890f-4b1ea7b54741')\"\n",
              "              title=\"Convert this dataframe to an interactive table.\"\n",
              "              style=\"display:none;\">\n",
              "        \n",
              "  <svg xmlns=\"http://www.w3.org/2000/svg\" height=\"24px\"viewBox=\"0 0 24 24\"\n",
              "       width=\"24px\">\n",
              "    <path d=\"M0 0h24v24H0V0z\" fill=\"none\"/>\n",
              "    <path d=\"M18.56 5.44l.94 2.06.94-2.06 2.06-.94-2.06-.94-.94-2.06-.94 2.06-2.06.94zm-11 1L8.5 8.5l.94-2.06 2.06-.94-2.06-.94L8.5 2.5l-.94 2.06-2.06.94zm10 10l.94 2.06.94-2.06 2.06-.94-2.06-.94-.94-2.06-.94 2.06-2.06.94z\"/><path d=\"M17.41 7.96l-1.37-1.37c-.4-.4-.92-.59-1.43-.59-.52 0-1.04.2-1.43.59L10.3 9.45l-7.72 7.72c-.78.78-.78 2.05 0 2.83L4 21.41c.39.39.9.59 1.41.59.51 0 1.02-.2 1.41-.59l7.78-7.78 2.81-2.81c.8-.78.8-2.07 0-2.86zM5.41 20L4 18.59l7.72-7.72 1.47 1.35L5.41 20z\"/>\n",
              "  </svg>\n",
              "      </button>\n",
              "      \n",
              "  <style>\n",
              "    .colab-df-container {\n",
              "      display:flex;\n",
              "      flex-wrap:wrap;\n",
              "      gap: 12px;\n",
              "    }\n",
              "\n",
              "    .colab-df-convert {\n",
              "      background-color: #E8F0FE;\n",
              "      border: none;\n",
              "      border-radius: 50%;\n",
              "      cursor: pointer;\n",
              "      display: none;\n",
              "      fill: #1967D2;\n",
              "      height: 32px;\n",
              "      padding: 0 0 0 0;\n",
              "      width: 32px;\n",
              "    }\n",
              "\n",
              "    .colab-df-convert:hover {\n",
              "      background-color: #E2EBFA;\n",
              "      box-shadow: 0px 1px 2px rgba(60, 64, 67, 0.3), 0px 1px 3px 1px rgba(60, 64, 67, 0.15);\n",
              "      fill: #174EA6;\n",
              "    }\n",
              "\n",
              "    [theme=dark] .colab-df-convert {\n",
              "      background-color: #3B4455;\n",
              "      fill: #D2E3FC;\n",
              "    }\n",
              "\n",
              "    [theme=dark] .colab-df-convert:hover {\n",
              "      background-color: #434B5C;\n",
              "      box-shadow: 0px 1px 3px 1px rgba(0, 0, 0, 0.15);\n",
              "      filter: drop-shadow(0px 1px 2px rgba(0, 0, 0, 0.3));\n",
              "      fill: #FFFFFF;\n",
              "    }\n",
              "  </style>\n",
              "\n",
              "      <script>\n",
              "        const buttonEl =\n",
              "          document.querySelector('#df-74fff93a-ddf0-4a75-890f-4b1ea7b54741 button.colab-df-convert');\n",
              "        buttonEl.style.display =\n",
              "          google.colab.kernel.accessAllowed ? 'block' : 'none';\n",
              "\n",
              "        async function convertToInteractive(key) {\n",
              "          const element = document.querySelector('#df-74fff93a-ddf0-4a75-890f-4b1ea7b54741');\n",
              "          const dataTable =\n",
              "            await google.colab.kernel.invokeFunction('convertToInteractive',\n",
              "                                                     [key], {});\n",
              "          if (!dataTable) return;\n",
              "\n",
              "          const docLinkHtml = 'Like what you see? Visit the ' +\n",
              "            '<a target=\"_blank\" href=https://colab.research.google.com/notebooks/data_table.ipynb>data table notebook</a>'\n",
              "            + ' to learn more about interactive tables.';\n",
              "          element.innerHTML = '';\n",
              "          dataTable['output_type'] = 'display_data';\n",
              "          await google.colab.output.renderOutput(dataTable, element);\n",
              "          const docLink = document.createElement('div');\n",
              "          docLink.innerHTML = docLinkHtml;\n",
              "          element.appendChild(docLink);\n",
              "        }\n",
              "      </script>\n",
              "    </div>\n",
              "  </div>\n",
              "  "
            ]
          },
          "metadata": {},
          "execution_count": 19
        }
      ]
    },
    {
      "cell_type": "markdown",
      "source": [
        "### Organize the dataset\n",
        "\n",
        "Go through each csv file and change the filename to not include the full file path, but just the name of the image. This will make it easier to match the image name in the annotation file to the actual image down the line."
      ],
      "metadata": {
        "id": "4hhmhpitJbhr"
      }
    },
    {
      "cell_type": "code",
      "source": [
        "annot_path = pathlib.Path(new_annot_path)\n",
        "\n",
        "for annot_file in tqdm.tqdm(annot_path.glob(\"*.csv\")):\n",
        "  # Open the .csv file into a Pandas dataframe\n",
        "  df = pd.read_csv(str(annot_file), delimiter=';').drop(['Origin file',\n",
        "                                                         'Origin frame number',\n",
        "                                                         'Origin track',\n",
        "                                                         'Origin track frame number'],\n",
        "                                                        axis=1)\n",
        "  for fn in df['Filename']:\n",
        "    df['Filename'] = df['Filename'].replace(fn, fn.split('/')[-1])\n",
        "\n",
        "  # Overwrite the dataframe as the new .csv file - can save space by dropping\n",
        "  # the additional columns as well\n",
        "  df.to_csv(str(annot_file), index=False)"
      ],
      "metadata": {
        "colab": {
          "base_uri": "https://localhost:8080/"
        },
        "id": "8zJES0vDJa2J",
        "outputId": "0ea905ee-f15c-464b-a953-52d434c88923"
      },
      "execution_count": 20,
      "outputs": [
        {
          "output_type": "stream",
          "name": "stderr",
          "text": [
            "24it [01:10,  2.94s/it]\n"
          ]
        }
      ]
    },
    {
      "cell_type": "markdown",
      "source": [
        "Now we have the image name in the image folder, matched up to the annotations. Note that some of the image names appear more than once. This is due to the fact that a single image can have multiple bounding boxes, and each bounding box can be identified as a single class."
      ],
      "metadata": {
        "id": "EWGNeYYwbl9B"
      }
    },
    {
      "cell_type": "code",
      "source": [
        "df = pd.read_csv(new_annot_path + 'frameAnnotationsBOX_dayClip1.csv', delimiter=',')\n",
        "df"
      ],
      "metadata": {
        "colab": {
          "base_uri": "https://localhost:8080/",
          "height": 424
        },
        "id": "GTiRmhN_ap7Y",
        "outputId": "5187d121-631f-48bf-8ef2-24d32e200513"
      },
      "execution_count": 21,
      "outputs": [
        {
          "output_type": "execute_result",
          "data": {
            "text/plain": [
              "                 Filename Annotation tag  Upper left corner X  \\\n",
              "0     dayClip1--00000.jpg             go                  698   \n",
              "1     dayClip1--00000.jpg             go                  846   \n",
              "2     dayClip1--00001.jpg             go                  698   \n",
              "3     dayClip1--00001.jpg             go                  847   \n",
              "4     dayClip1--00002.jpg             go                  698   \n",
              "...                   ...            ...                  ...   \n",
              "7974  dayClip1--02160.jpg             go                  660   \n",
              "7975  dayClip1--02160.jpg             go                  777   \n",
              "7976  dayClip1--02160.jpg             go                  838   \n",
              "7977  dayClip1--02160.jpg             go                  987   \n",
              "7978  dayClip1--02160.jpg             go                 1157   \n",
              "\n",
              "      Upper left corner Y  Lower right corner X  Lower right corner Y  \n",
              "0                     333                   710                   358  \n",
              "1                     391                   858                   411  \n",
              "2                     337                   710                   357  \n",
              "3                     390                   859                   410  \n",
              "4                     331                   710                   356  \n",
              "...                   ...                   ...                   ...  \n",
              "7974                  322                   672                   342  \n",
              "7975                  351                   792                   376  \n",
              "7976                  174                   868                   234  \n",
              "7977                  213                  1014                   263  \n",
              "7978                  293                  1181                   338  \n",
              "\n",
              "[7979 rows x 6 columns]"
            ],
            "text/html": [
              "\n",
              "  <div id=\"df-f702a28a-4f64-4331-b103-414089907e89\">\n",
              "    <div class=\"colab-df-container\">\n",
              "      <div>\n",
              "<style scoped>\n",
              "    .dataframe tbody tr th:only-of-type {\n",
              "        vertical-align: middle;\n",
              "    }\n",
              "\n",
              "    .dataframe tbody tr th {\n",
              "        vertical-align: top;\n",
              "    }\n",
              "\n",
              "    .dataframe thead th {\n",
              "        text-align: right;\n",
              "    }\n",
              "</style>\n",
              "<table border=\"1\" class=\"dataframe\">\n",
              "  <thead>\n",
              "    <tr style=\"text-align: right;\">\n",
              "      <th></th>\n",
              "      <th>Filename</th>\n",
              "      <th>Annotation tag</th>\n",
              "      <th>Upper left corner X</th>\n",
              "      <th>Upper left corner Y</th>\n",
              "      <th>Lower right corner X</th>\n",
              "      <th>Lower right corner Y</th>\n",
              "    </tr>\n",
              "  </thead>\n",
              "  <tbody>\n",
              "    <tr>\n",
              "      <th>0</th>\n",
              "      <td>dayClip1--00000.jpg</td>\n",
              "      <td>go</td>\n",
              "      <td>698</td>\n",
              "      <td>333</td>\n",
              "      <td>710</td>\n",
              "      <td>358</td>\n",
              "    </tr>\n",
              "    <tr>\n",
              "      <th>1</th>\n",
              "      <td>dayClip1--00000.jpg</td>\n",
              "      <td>go</td>\n",
              "      <td>846</td>\n",
              "      <td>391</td>\n",
              "      <td>858</td>\n",
              "      <td>411</td>\n",
              "    </tr>\n",
              "    <tr>\n",
              "      <th>2</th>\n",
              "      <td>dayClip1--00001.jpg</td>\n",
              "      <td>go</td>\n",
              "      <td>698</td>\n",
              "      <td>337</td>\n",
              "      <td>710</td>\n",
              "      <td>357</td>\n",
              "    </tr>\n",
              "    <tr>\n",
              "      <th>3</th>\n",
              "      <td>dayClip1--00001.jpg</td>\n",
              "      <td>go</td>\n",
              "      <td>847</td>\n",
              "      <td>390</td>\n",
              "      <td>859</td>\n",
              "      <td>410</td>\n",
              "    </tr>\n",
              "    <tr>\n",
              "      <th>4</th>\n",
              "      <td>dayClip1--00002.jpg</td>\n",
              "      <td>go</td>\n",
              "      <td>698</td>\n",
              "      <td>331</td>\n",
              "      <td>710</td>\n",
              "      <td>356</td>\n",
              "    </tr>\n",
              "    <tr>\n",
              "      <th>...</th>\n",
              "      <td>...</td>\n",
              "      <td>...</td>\n",
              "      <td>...</td>\n",
              "      <td>...</td>\n",
              "      <td>...</td>\n",
              "      <td>...</td>\n",
              "    </tr>\n",
              "    <tr>\n",
              "      <th>7974</th>\n",
              "      <td>dayClip1--02160.jpg</td>\n",
              "      <td>go</td>\n",
              "      <td>660</td>\n",
              "      <td>322</td>\n",
              "      <td>672</td>\n",
              "      <td>342</td>\n",
              "    </tr>\n",
              "    <tr>\n",
              "      <th>7975</th>\n",
              "      <td>dayClip1--02160.jpg</td>\n",
              "      <td>go</td>\n",
              "      <td>777</td>\n",
              "      <td>351</td>\n",
              "      <td>792</td>\n",
              "      <td>376</td>\n",
              "    </tr>\n",
              "    <tr>\n",
              "      <th>7976</th>\n",
              "      <td>dayClip1--02160.jpg</td>\n",
              "      <td>go</td>\n",
              "      <td>838</td>\n",
              "      <td>174</td>\n",
              "      <td>868</td>\n",
              "      <td>234</td>\n",
              "    </tr>\n",
              "    <tr>\n",
              "      <th>7977</th>\n",
              "      <td>dayClip1--02160.jpg</td>\n",
              "      <td>go</td>\n",
              "      <td>987</td>\n",
              "      <td>213</td>\n",
              "      <td>1014</td>\n",
              "      <td>263</td>\n",
              "    </tr>\n",
              "    <tr>\n",
              "      <th>7978</th>\n",
              "      <td>dayClip1--02160.jpg</td>\n",
              "      <td>go</td>\n",
              "      <td>1157</td>\n",
              "      <td>293</td>\n",
              "      <td>1181</td>\n",
              "      <td>338</td>\n",
              "    </tr>\n",
              "  </tbody>\n",
              "</table>\n",
              "<p>7979 rows × 6 columns</p>\n",
              "</div>\n",
              "      <button class=\"colab-df-convert\" onclick=\"convertToInteractive('df-f702a28a-4f64-4331-b103-414089907e89')\"\n",
              "              title=\"Convert this dataframe to an interactive table.\"\n",
              "              style=\"display:none;\">\n",
              "        \n",
              "  <svg xmlns=\"http://www.w3.org/2000/svg\" height=\"24px\"viewBox=\"0 0 24 24\"\n",
              "       width=\"24px\">\n",
              "    <path d=\"M0 0h24v24H0V0z\" fill=\"none\"/>\n",
              "    <path d=\"M18.56 5.44l.94 2.06.94-2.06 2.06-.94-2.06-.94-.94-2.06-.94 2.06-2.06.94zm-11 1L8.5 8.5l.94-2.06 2.06-.94-2.06-.94L8.5 2.5l-.94 2.06-2.06.94zm10 10l.94 2.06.94-2.06 2.06-.94-2.06-.94-.94-2.06-.94 2.06-2.06.94z\"/><path d=\"M17.41 7.96l-1.37-1.37c-.4-.4-.92-.59-1.43-.59-.52 0-1.04.2-1.43.59L10.3 9.45l-7.72 7.72c-.78.78-.78 2.05 0 2.83L4 21.41c.39.39.9.59 1.41.59.51 0 1.02-.2 1.41-.59l7.78-7.78 2.81-2.81c.8-.78.8-2.07 0-2.86zM5.41 20L4 18.59l7.72-7.72 1.47 1.35L5.41 20z\"/>\n",
              "  </svg>\n",
              "      </button>\n",
              "      \n",
              "  <style>\n",
              "    .colab-df-container {\n",
              "      display:flex;\n",
              "      flex-wrap:wrap;\n",
              "      gap: 12px;\n",
              "    }\n",
              "\n",
              "    .colab-df-convert {\n",
              "      background-color: #E8F0FE;\n",
              "      border: none;\n",
              "      border-radius: 50%;\n",
              "      cursor: pointer;\n",
              "      display: none;\n",
              "      fill: #1967D2;\n",
              "      height: 32px;\n",
              "      padding: 0 0 0 0;\n",
              "      width: 32px;\n",
              "    }\n",
              "\n",
              "    .colab-df-convert:hover {\n",
              "      background-color: #E2EBFA;\n",
              "      box-shadow: 0px 1px 2px rgba(60, 64, 67, 0.3), 0px 1px 3px 1px rgba(60, 64, 67, 0.15);\n",
              "      fill: #174EA6;\n",
              "    }\n",
              "\n",
              "    [theme=dark] .colab-df-convert {\n",
              "      background-color: #3B4455;\n",
              "      fill: #D2E3FC;\n",
              "    }\n",
              "\n",
              "    [theme=dark] .colab-df-convert:hover {\n",
              "      background-color: #434B5C;\n",
              "      box-shadow: 0px 1px 3px 1px rgba(0, 0, 0, 0.15);\n",
              "      filter: drop-shadow(0px 1px 2px rgba(0, 0, 0, 0.3));\n",
              "      fill: #FFFFFF;\n",
              "    }\n",
              "  </style>\n",
              "\n",
              "      <script>\n",
              "        const buttonEl =\n",
              "          document.querySelector('#df-f702a28a-4f64-4331-b103-414089907e89 button.colab-df-convert');\n",
              "        buttonEl.style.display =\n",
              "          google.colab.kernel.accessAllowed ? 'block' : 'none';\n",
              "\n",
              "        async function convertToInteractive(key) {\n",
              "          const element = document.querySelector('#df-f702a28a-4f64-4331-b103-414089907e89');\n",
              "          const dataTable =\n",
              "            await google.colab.kernel.invokeFunction('convertToInteractive',\n",
              "                                                     [key], {});\n",
              "          if (!dataTable) return;\n",
              "\n",
              "          const docLinkHtml = 'Like what you see? Visit the ' +\n",
              "            '<a target=\"_blank\" href=https://colab.research.google.com/notebooks/data_table.ipynb>data table notebook</a>'\n",
              "            + ' to learn more about interactive tables.';\n",
              "          element.innerHTML = '';\n",
              "          dataTable['output_type'] = 'display_data';\n",
              "          await google.colab.output.renderOutput(dataTable, element);\n",
              "          const docLink = document.createElement('div');\n",
              "          docLink.innerHTML = docLinkHtml;\n",
              "          element.appendChild(docLink);\n",
              "        }\n",
              "      </script>\n",
              "    </div>\n",
              "  </div>\n",
              "  "
            ]
          },
          "metadata": {},
          "execution_count": 21
        }
      ]
    },
    {
      "cell_type": "markdown",
      "source": [
        "## Create the data input pipeline"
      ],
      "metadata": {
        "id": "C2HmNlGxdms3"
      }
    },
    {
      "cell_type": "markdown",
      "source": [
        "### Writing a custom Tensorflow Dataset\n",
        "\n",
        "Datasets are distributed in all kinds of formats and in all kinds of places, and they're not always stored in a format that's ready to feed into a machine learning pipeline. Creating our own custom class to bulid the dataset allows us to handle complex data types, such as nested structures, like the definition of the target bounding boxes and labels.\n",
        "\n",
        "All datasets are implemented subclasses of `tfds.core.DatasetBuilder`, which takes care of most boilerplate. We can use it to support small/medium datasets which can be generated on a single machine, such as in this tutorial. Note that it can be used for larger datasets, and more information on this can be found in the [Writing custom datasets](https://www.tensorflow.org/datasets/add_dataset#write_your_dataset) tutorial.\n",
        "\n",
        "\n",
        "We use `tfds.core.GeneratorBasedBuilder` as a base class for datasets with data generation. It expects subclasses to overwrite `_split_generators` to return a dictionary of splits, generators.\n",
        "\n",
        "Let's consolidate our data even further. Instead of having the same image listed multiple times, let's gather all the bounding boxes and classes such that the image entry only appears once."
      ],
      "metadata": {
        "id": "dJ9SBEyQ18HT"
      }
    },
    {
      "cell_type": "code",
      "source": [
        "%%writefile LISABuilder.py\n",
        "import PIL\n",
        "import random\n",
        "import pathlib\n",
        "import numpy as np\n",
        "import pandas as pd\n",
        "\n",
        "import tensorflow as tf\n",
        "import tensorflow_datasets as tfds\n",
        "\n",
        "class LISABuilder(tfds.core.GeneratorBasedBuilder):\n",
        "  \"\"\"\n",
        "    Dataset builder for LISA Traffic dataset.\n",
        "  \"\"\"\n",
        "  VERSION = tfds.core.Version('1.0.0')\n",
        "  RELEASE_NOTES = {\n",
        "      '1.0.0': 'Initial release.'\n",
        "  }\n",
        "\n",
        "  def _info(self) -> tfds.core.DatasetInfo:\n",
        "    \"\"\"\n",
        "      Dataset metadata:\n",
        "      Homepage: https://cvrr.ucsd.edu/lisa-traffic-signs-dataset\n",
        "      Citation: Andreas Møgelmose, Mohan M. Trivedi, and Thomas B. Moeslund,\n",
        "        “Vision based Traffic Sign Detection and Analysis for Intelligent Driver Assistance Systems: Perspectives and Survey,”\n",
        "        IEEE Transactions on Intelligent Transportation Systems, 2012.\n",
        "    \"\"\"\n",
        "    return self.dataset_info_from_configs(\n",
        "        features=tfds.features.FeaturesDict({\n",
        "            'image': tfds.features.Image(shape=(960, 1280, 3)),\n",
        "            'bounding boxes': tfds.features.Sequence({\n",
        "                'boxes': tfds.features.BBoxFeature(doc=\"[yxyx] with y / height, x / width\"),\n",
        "                'classes': tfds.features.ClassLabel(num_classes=7)\n",
        "            })\n",
        "        }),\n",
        "        disable_shuffling=False\n",
        "    )\n",
        "\n",
        "  def train_test_split(self, img_labels_dict, training_percent = 0.80):\n",
        "    # Shuffle the dictionary by the keys\n",
        "    keys = list(img_labels_dict.keys())\n",
        "    random.shuffle(keys)\n",
        "\n",
        "    nkeys = int(len(keys) * training_percent)\n",
        "    training_keys = keys[:nkeys]\n",
        "    test_keys = keys[nkeys:]\n",
        "\n",
        "    training_dict = {k: img_labels_dict[k] for k in training_keys}\n",
        "    test_dict = {k: img_labels_dict[k] for k in test_keys}\n",
        "\n",
        "    return training_dict, test_dict\n",
        "\n",
        "  def format_bounding_boxes(self, upper_left_x, upper_left_y,\n",
        "                            lower_right_x, lower_right_y,\n",
        "                            height, width):\n",
        "    \"\"\"\n",
        "      Package the coordinates into a tf.Tensor.\n",
        "    \"\"\"\n",
        "    # Return ymin, xmin, ymax, xmax - yxyx format divided by height and width\n",
        "    ymin = upper_left_y / height\n",
        "    xmin = upper_left_x / width\n",
        "    ymax = lower_right_y / height\n",
        "    xmax = lower_right_x / width\n",
        "    return np.asarray([ymin, xmin, ymax, xmax])\n",
        "\n",
        "  def _split_generators(self, dl_manager: tfds.download.DownloadManager):\n",
        "    annot_path = pathlib.Path('./LISA_processed/annotations/')\n",
        "    img_path = pathlib.Path('./LISA_processed/images/')\n",
        "    classes = ['stop', 'go', 'warning', 'warningLeft', 'stopLeft', 'goForward', 'goLeft']\n",
        "    classes = sorted(classes)\n",
        "    class_mapping = dict((name, idx) for idx, name in enumerate(classes))\n",
        "\n",
        "    data_dict = dict() # Let each image have their entries for the bbox coordinates and classes\n",
        "    for img_file in img_path.glob(\"*.jpg\"):\n",
        "      for annot_file in annot_path.glob(\"*.csv\"):\n",
        "        # Turn the .csv file into a dataframe for easy reading\n",
        "        df = pd.read_csv(str(annot_file), delimiter=',')\n",
        "        if any(img_file.name == name for name in df['Filename'].unique()):\n",
        "          # Get indices of matched up file names\n",
        "          idx = df.index[df['Filename'] == img_file.name].tolist()\n",
        "          upper_left_x, upper_left_y, lower_right_x, lower_right_y, classes = [], [], [], [], []\n",
        "          for i in idx:\n",
        "            # Get the bounding box information: upper_left_x, upper_left_y,\tlower_right_x\t, lower_right_y\n",
        "            upper_left_x.append(df.loc[i, 'Upper left corner X']) # xmin\n",
        "            upper_left_y.append(df.loc[i, 'Upper left corner Y']) # ymin\n",
        "            lower_right_x.append(df.loc[i, 'Lower right corner X']) # xmax\n",
        "            lower_right_y.append(df.loc[i, 'Lower right corner Y']) # ymax\n",
        "            # Get the class information\n",
        "            classes.append(df.loc[i, 'Annotation tag'])\n",
        "          # Ensure all new lists are the same length - sanity check\n",
        "          assert len(upper_left_x) == len(upper_left_y) == len(lower_right_x) == len(lower_right_y) == len(classes)\n",
        "          data_dict[img_file.name] = {'xmin': upper_left_x,\n",
        "                                      'ymin': upper_left_y,\n",
        "                                      'xmax': lower_right_x,\n",
        "                                      'ymax': lower_right_y,\n",
        "                                      'classes': classes}\n",
        "\n",
        "    training_dict, test_dict = self.train_test_split(data_dict)\n",
        "\n",
        "    return {\n",
        "        'train': self._generate_examples(training_dict, class_mapping),\n",
        "        'test': self._generate_examples(test_dict, class_mapping)\n",
        "    }\n",
        "\n",
        "  def _generate_examples(self, data_dict, class_mapping):\n",
        "    image_id = 0\n",
        "    for key in data_dict:\n",
        "      image = PIL.Image.open('./LISA_processed/images/' + key)\n",
        "      image_tensor = np.asarray(image)\n",
        "      image_id += 1\n",
        "\n",
        "      height, width, _ = image_tensor.shape\n",
        "\n",
        "      bbox_coords, cls = [], []\n",
        "      # Recall the value of this dictionary is also a dictionary\n",
        "      for i in range(len(data_dict[key]['xmin'])): # All lists are same length, does not matter which one you choose\n",
        "        # Get each individual coordinate and corresponding class\n",
        "        xmin = data_dict[key]['xmin'][i]\n",
        "        ymin = data_dict[key]['ymin'][i]\n",
        "        xmax = data_dict[key]['xmax'][i]\n",
        "        ymax = data_dict[key]['ymax'][i]\n",
        "        # Format the bounding box coordinates\n",
        "        bbox_coords.append(self.format_bounding_boxes(xmin, ymin,\n",
        "                                                      xmax, ymax,\n",
        "                                                      height, width))\n",
        "        cls.append(class_mapping[data_dict[key]['classes'][i]])\n",
        "\n",
        "      example = {'image': image_tensor,\n",
        "                 'bounding boxes': {\n",
        "                     'boxes': bbox_coords,\n",
        "                     'classes': cls\n",
        "                 }\n",
        "                }\n",
        "\n",
        "      yield image_id, example"
      ],
      "metadata": {
        "colab": {
          "base_uri": "https://localhost:8080/"
        },
        "id": "e75xI0uhd1SK",
        "outputId": "3c2b26f2-abc9-40ad-8d3e-f52a95680c5d"
      },
      "execution_count": 22,
      "outputs": [
        {
          "output_type": "stream",
          "name": "stdout",
          "text": [
            "Writing LISABuilder.py\n"
          ]
        }
      ]
    },
    {
      "cell_type": "code",
      "source": [
        "import importlib\n",
        "import LISABuilder\n",
        "importlib.reload(LISABuilder)"
      ],
      "metadata": {
        "colab": {
          "base_uri": "https://localhost:8080/"
        },
        "id": "Rclsds4RoXAY",
        "outputId": "96c6f8a2-38ce-4491-e308-1d29651911fd"
      },
      "execution_count": 23,
      "outputs": [
        {
          "output_type": "execute_result",
          "data": {
            "text/plain": [
              "<module 'LISABuilder' from '/content/LISABuilder.py'>"
            ]
          },
          "metadata": {},
          "execution_count": 23
        }
      ]
    },
    {
      "cell_type": "code",
      "source": [
        "ds = tfds.load('LISABuilder')"
      ],
      "metadata": {
        "id": "X819gD_WoZt9",
        "colab": {
          "base_uri": "https://localhost:8080/",
          "height": 121,
          "referenced_widgets": [
            "768570aa1d8144e89187f449bc97d40d",
            "471555dc111d4788b3da845e86dc4787",
            "e0b815532c43419ea6195fb454395852",
            "218f55f11d344f30a173106a948fb606",
            "dd00a60a7fe543ef9c6197b00547310e",
            "de00234e09d34a07942de55a53fc9786",
            "d7edde7cb62e4811b7272c97601a87d6",
            "bffbffa26acc4b3d985df1aea1120410",
            "da4b625943b1454e98a96ab7ad2a44e3",
            "61b35fc4de044eac837fe9c4323ce82b",
            "37e1c0cc634a4096952277f1c334ecfe",
            "329b27bf535b4d8688c9c7abedf47c9e",
            "d3c1abfa120f4eaa89c1db046baaaa2c",
            "46a29b4c1a9448f08b48b0b592feb9fe",
            "19232c5859a2427eb51e2ac31c6643a3",
            "beb22d27a1a543da902df95e907126c2",
            "5a7e1089b7bd48a4aebd1be20cf2b73b",
            "f66777fb91684b0fbd159ad6d6f99dc4",
            "0b4d1148bc0f45809b7cbc8eb431bc89",
            "2ccb67cb59e3447f95a0a9e09e8e0668",
            "0301d6d52f01488d967a12466e521307",
            "ac160fb474964b789c271502d891eee3",
            "04fb75b75a6e4c80b0fd24aacf0dc20f",
            "60a8b7f1078148a19292c62cd88e7d0c",
            "2c61700b9ab94b21afbfbcc3fcdc244d",
            "db685149c13548f7b27d94534e8b2131",
            "fc4138db8ad541698167e3f85da4d07f",
            "4706eea2d10549a5bd1dea1c1ef99b2d",
            "b38161f31aaa4d10a15add67e043403a",
            "2391d0033f8940a88304aaa4d9041b42",
            "b248bbfcc8b24855844fe8248a179233",
            "e04fb4176e8d4234aa87d2aabc08db96",
            "8cfb10fb0ce248b091310948b8090e6f",
            "d3470c602e0d4457ac621b4d63d0f186",
            "16222271b2c0447a96e4e3d2fb249f31",
            "d0e9346edc03466bb11c88752b8c5dde",
            "2bec8bbed903483fb153ecd1a765136c",
            "3843f92636f64649b8de9d4450c01a73",
            "1b272faf3b23422aa5a08176c3023d93",
            "8f2523fa7e6247d790eac33cbeb1831b",
            "c3f5b27c5f9f4d82b6291d19a7bfda5e",
            "102f255eb3da4fafa315b68013826c4b",
            "00586225f8e646079705289127ce6d95",
            "c42af83d19a04d45830232099eef3d69",
            "bbe650ad2cf0438385240f6cc65e5bfb",
            "d5f95de324f34c6a9bc74e2f0810578c",
            "2d14b75504804f97a9578af671775a8c",
            "6fd320509c704408b23657e9bc9b0660",
            "30597cc9376644f19a6c3b2ed27a0299",
            "e822a9eeb3a34ff08f8539eb5e013349",
            "f38812bb69354ad899b9e03ce06dfb03",
            "c2768b330b5e4ba5a5e96aadae764bff",
            "5beca94527994c47856158495f9bf16b",
            "2e77f197f6e04fa993a1f1b3ec33e437",
            "81ccc1e6b8834d12ba4d60d09cf82300"
          ]
        },
        "outputId": "63b26f23-23ca-4be0-85df-54b1ac94646d"
      },
      "execution_count": 24,
      "outputs": [
        {
          "output_type": "stream",
          "name": "stdout",
          "text": [
            "Downloading and preparing dataset Unknown size (download: Unknown size, generated: Unknown size, total: Unknown size) to /root/tensorflow_datasets/lisa_builder/1.0.0...\n"
          ]
        },
        {
          "output_type": "display_data",
          "data": {
            "text/plain": [
              "Generating splits...:   0%|          | 0/2 [00:00<?, ? splits/s]"
            ],
            "application/vnd.jupyter.widget-view+json": {
              "version_major": 2,
              "version_minor": 0,
              "model_id": "768570aa1d8144e89187f449bc97d40d"
            }
          },
          "metadata": {}
        },
        {
          "output_type": "stream",
          "name": "stderr",
          "text": [
            "WARNING:absl:`TensorInfo.dtype` is deprecated. Please change your code to use NumPy with the field `TensorInfo.np_dtype` or use TensorFlow with the field `TensorInfo.tf_dtype`.\n",
            "WARNING:absl:You use TensorFlow DType <dtype: 'float32'> in tfds.features This will soon be deprecated in favor of NumPy DTypes. In the meantime it was converted to float32.\n",
            "WARNING:absl:`TensorInfo.dtype` is deprecated. Please change your code to use NumPy with the field `TensorInfo.np_dtype` or use TensorFlow with the field `TensorInfo.tf_dtype`.\n",
            "WARNING:absl:You use TensorFlow DType <dtype: 'int64'> in tfds.features This will soon be deprecated in favor of NumPy DTypes. In the meantime it was converted to int64.\n"
          ]
        },
        {
          "output_type": "display_data",
          "data": {
            "text/plain": [
              "Generating train examples...: 0 examples [00:00, ? examples/s]"
            ],
            "application/vnd.jupyter.widget-view+json": {
              "version_major": 2,
              "version_minor": 0,
              "model_id": "329b27bf535b4d8688c9c7abedf47c9e"
            }
          },
          "metadata": {}
        },
        {
          "output_type": "display_data",
          "data": {
            "text/plain": [
              "Shuffling /root/tensorflow_datasets/lisa_builder/1.0.0.incompleteZZ6OGA/lisa_builder-train.tfrecord*...:   0%|…"
            ],
            "application/vnd.jupyter.widget-view+json": {
              "version_major": 2,
              "version_minor": 0,
              "model_id": "04fb75b75a6e4c80b0fd24aacf0dc20f"
            }
          },
          "metadata": {}
        },
        {
          "output_type": "display_data",
          "data": {
            "text/plain": [
              "Generating test examples...: 0 examples [00:00, ? examples/s]"
            ],
            "application/vnd.jupyter.widget-view+json": {
              "version_major": 2,
              "version_minor": 0,
              "model_id": "d3470c602e0d4457ac621b4d63d0f186"
            }
          },
          "metadata": {}
        },
        {
          "output_type": "display_data",
          "data": {
            "text/plain": [
              "Shuffling /root/tensorflow_datasets/lisa_builder/1.0.0.incompleteZZ6OGA/lisa_builder-test.tfrecord*...:   0%| …"
            ],
            "application/vnd.jupyter.widget-view+json": {
              "version_major": 2,
              "version_minor": 0,
              "model_id": "bbe650ad2cf0438385240f6cc65e5bfb"
            }
          },
          "metadata": {}
        },
        {
          "output_type": "stream",
          "name": "stdout",
          "text": [
            "Dataset lisa_builder downloaded and prepared to /root/tensorflow_datasets/lisa_builder/1.0.0. Subsequent calls will reuse this data.\n"
          ]
        }
      ]
    },
    {
      "cell_type": "code",
      "source": [
        "train_ds = ds['train']\n",
        "train_ds.element_spec"
      ],
      "metadata": {
        "colab": {
          "base_uri": "https://localhost:8080/"
        },
        "id": "JSZajc4Dpxd0",
        "outputId": "8e55ca5b-116a-434c-d4bf-d1164cb38506"
      },
      "execution_count": 25,
      "outputs": [
        {
          "output_type": "execute_result",
          "data": {
            "text/plain": [
              "{'bounding boxes': {'boxes': TensorSpec(shape=(None, 4), dtype=tf.float32, name=None),\n",
              "  'classes': TensorSpec(shape=(None,), dtype=tf.int64, name=None)},\n",
              " 'image': TensorSpec(shape=(960, 1280, 3), dtype=tf.uint8, name=None)}"
            ]
          },
          "metadata": {},
          "execution_count": 25
        }
      ]
    },
    {
      "cell_type": "code",
      "source": [
        "test_ds = ds['test']\n",
        "test_ds.element_spec"
      ],
      "metadata": {
        "colab": {
          "base_uri": "https://localhost:8080/"
        },
        "id": "eR05DixEsR-R",
        "outputId": "16f9f1b9-b0ce-4b05-8731-f2dc52c24382"
      },
      "execution_count": 26,
      "outputs": [
        {
          "output_type": "execute_result",
          "data": {
            "text/plain": [
              "{'bounding boxes': {'boxes': TensorSpec(shape=(None, 4), dtype=tf.float32, name=None),\n",
              "  'classes': TensorSpec(shape=(None,), dtype=tf.int64, name=None)},\n",
              " 'image': TensorSpec(shape=(960, 1280, 3), dtype=tf.uint8, name=None)}"
            ]
          },
          "metadata": {},
          "execution_count": 26
        }
      ]
    },
    {
      "cell_type": "code",
      "source": [
        "sample = next(iter(train_ds))\n",
        "print(f\"Image shape: {sample['image'].shape}\")\n",
        "print(f\"Bounding boxes: {sample['bounding boxes']['boxes']}\")\n",
        "print(f\"Classes: {sample['bounding boxes']['classes']}\")"
      ],
      "metadata": {
        "colab": {
          "base_uri": "https://localhost:8080/"
        },
        "id": "0t755iz6saPA",
        "outputId": "aa142391-3e7b-45ae-d8bf-c24e4730f4b6"
      },
      "execution_count": 27,
      "outputs": [
        {
          "output_type": "stream",
          "name": "stdout",
          "text": [
            "Image shape: (960, 1280, 3)\n",
            "Bounding boxes: [[0.35416666 0.3875     0.37291667 0.396875  ]\n",
            " [0.36458334 0.6148437  0.38333333 0.62421876]\n",
            " [0.43229166 0.4609375  0.45520833 0.4703125 ]]\n",
            "Classes: [3 3 4]\n"
          ]
        }
      ]
    },
    {
      "cell_type": "code",
      "source": [
        "def unpackage_tfds_inputs(inputs):\n",
        "  image = inputs['image']\n",
        "\n",
        "  boxes = keras_cv.bounding_box.convert_format(\n",
        "      inputs['bounding boxes']['boxes'],\n",
        "      images=image,\n",
        "      source='rel_yxyx', # Each value is relative to the width and height of the origin image\n",
        "      target='xywh'\n",
        "  )\n",
        "\n",
        "  bounding_boxes = {\n",
        "      \"classes\": tf.cast(inputs['bounding boxes']['classes'], dtype=tf.float32),\n",
        "      \"boxes\": tf.cast(boxes, dtype=tf.float32)\n",
        "  }\n",
        "\n",
        "  return {\"images\": tf.cast(image, tf.float32),\n",
        "          \"bounding_boxes\": bounding_boxes}"
      ],
      "metadata": {
        "id": "t6Is5x8Ysbw7"
      },
      "execution_count": 28,
      "outputs": []
    },
    {
      "cell_type": "code",
      "source": [
        "unpacked_train_ds = train_ds.map(unpackage_tfds_inputs, num_parallel_calls=tf.data.AUTOTUNE)\n",
        "unpacked_test_ds = test_ds.map(unpackage_tfds_inputs, num_parallel_calls=tf.data.AUTOTUNE)"
      ],
      "metadata": {
        "id": "A8Cv9D-Hsupt"
      },
      "execution_count": 29,
      "outputs": []
    },
    {
      "cell_type": "code",
      "source": [
        "sample = next(iter(unpacked_train_ds))\n",
        "print(f\"Image shape: {sample['images'].shape}\")\n",
        "print(f\"Bounding boxes: {sample['bounding_boxes']['boxes']}\")\n",
        "print(f\"Classes: {sample['bounding_boxes']['classes']}\")"
      ],
      "metadata": {
        "colab": {
          "base_uri": "https://localhost:8080/"
        },
        "id": "Y-3gGAC72kYS",
        "outputId": "5be1467a-8695-4a91-9906-1633006280f2"
      },
      "execution_count": 30,
      "outputs": [
        {
          "output_type": "stream",
          "name": "stdout",
          "text": [
            "Image shape: (960, 1280, 3)\n",
            "Bounding boxes: [[496. 340.  12.  18.]\n",
            " [787. 350.  12.  18.]\n",
            " [590. 415.  12.  22.]]\n",
            "Classes: [3. 3. 4.]\n"
          ]
        }
      ]
    },
    {
      "cell_type": "markdown",
      "source": [
        "### Ragged tensors and bounding box format\n",
        "\n",
        "The upper left corner is equivalent to (`x_min`, `y_min`) and the lower right corner is equivalent to (`x_max`, `y_max`). Coordinates of a bounding box are encoded with four values in pixels: [`x_min`, `y_min`, `x_max`, `y_max`]. KerasCV has a predefined specificication for bounding boxes. To comply with this, you should package your bounding boxes into a dictionary matching the format below:\n",
        "\n",
        "```\n",
        "bounding_boxes = {\n",
        "    # num_boxes may be a Ragged dimension\n",
        "    'boxes': Tensor(shape=[batch, num_boxes, 4]),\n",
        "    'classes': Tensor(shape=[batch, num_boxes])\n",
        "}\n",
        "```\n",
        "\n",
        "Next, let's batch the data. In KerasCV object detection tasks it is recommended that users use ragged batches. This is due to the fact that images may be of different sizes in PascalVOC and that there may be different numbers of bounding boxes per image.\n",
        "\n",
        "Moreover, we specifically want to use a `RaggedTensor` to create this `bounding_boxes` dictionary. The easiest way to construct a ragged dataset in a [`tf.data`](https://www.tensorflow.org/api_docs/python/tf/data) pipeline is to use [`tf.data.experimental.dense_to_ragged_batch`](https://www.tensorflow.org/api_docs/python/tf/data/experimental/dense_to_ragged_batch?version=nightly)."
      ],
      "metadata": {
        "id": "d6JnbUyYsxKg"
      }
    },
    {
      "cell_type": "code",
      "source": [
        "batch_size = 4\n",
        "batched_train_ds = unpacked_train_ds.apply(tf.data.experimental.dense_to_ragged_batch(batch_size))\n",
        "batched_test_ds = unpacked_test_ds.apply(tf.data.experimental.dense_to_ragged_batch(batch_size))"
      ],
      "metadata": {
        "id": "qggzQvcyswOx"
      },
      "execution_count": 31,
      "outputs": []
    },
    {
      "cell_type": "code",
      "source": [
        "sample = next(iter(batched_train_ds))\n",
        "print(f\"Image shape: {sample['images'].shape}\")\n",
        "print(f\"Bounding boxes: {sample['bounding_boxes']['boxes']}\")\n",
        "print(f\"Classes: {sample['bounding_boxes']['classes']}\")"
      ],
      "metadata": {
        "colab": {
          "base_uri": "https://localhost:8080/"
        },
        "id": "cQ9y42_Ovxxl",
        "outputId": "8f20f3ed-c409-4363-afae-b9340e3717f0"
      },
      "execution_count": 32,
      "outputs": [
        {
          "output_type": "stream",
          "name": "stdout",
          "text": [
            "Image shape: (4, 960, 1280, 3)\n",
            "Bounding boxes: <tf.RaggedTensor [[[496.0, 340.0, 12.0, 18.0],\n",
            "  [787.0, 350.0, 12.0, 18.0],\n",
            "  [590.0, 415.0, 12.0, 22.0]], [[667.0, 383.0, 9.0, 15.0],\n",
            "                                [520.0, 386.0, 12.0, 21.0],\n",
            "                                [724.0, 383.0, 13.0, 32.0]],\n",
            " [[740.0, 441.0, 15.0, 22.0]], [[98.0, 260.0, 24.0, 31.0],\n",
            "                                [666.0, 306.0, 12.0, 22.0],\n",
            "                                [292.0, 413.0, 18.0, 27.0]]]>\n",
            "Classes: <tf.RaggedTensor [[3.0, 3.0, 4.0], [0.0, 3.0, 3.0], [3.0], [3.0, 3.0, 4.0]]>\n"
          ]
        }
      ]
    },
    {
      "cell_type": "code",
      "source": [
        "print(f\"Bounding boxes shape: {sample['bounding_boxes']['boxes'].shape}\")\n",
        "print(f\"Classes shape: {sample['bounding_boxes']['classes'].shape}\")"
      ],
      "metadata": {
        "colab": {
          "base_uri": "https://localhost:8080/"
        },
        "id": "47j5-hVL7C_h",
        "outputId": "9b78c81a-5190-41e2-bfa8-1d090d0027dc"
      },
      "execution_count": 33,
      "outputs": [
        {
          "output_type": "stream",
          "name": "stdout",
          "text": [
            "Bounding boxes shape: (4, None, 4)\n",
            "Classes shape: (4, None)\n"
          ]
        }
      ]
    },
    {
      "cell_type": "markdown",
      "source": [
        "## Data Augmentation\n",
        "\n",
        "In your pipeline, data augmentation is a possible step you might choose for many different reasons: making your dataset rich and sufficient with different types of data, wanting to do shape resizing, etc. Regardless, Image augmentation techniques must be aware of the underlying bounding boxes, and must update them accordingly.\n",
        "\n",
        "[`JitteredResize`](https://keras.io/api/keras_cv/layers/augmentation/jittered_resize/) takes a three step approach to size-distortion based image augmentation. This technique is specifically tuned for object detection pipelines. The layer takes an input of images and bounding boxes, both of which may be ragged. It outputs a dense image tensor, ready to feed to a model for training. As such this layer will commonly be the final step in an augmentation pipeline."
      ],
      "metadata": {
        "id": "S2XEblCOiB4D"
      }
    },
    {
      "cell_type": "code",
      "source": [
        "augment = keras_cv.layers.Augmenter(\n",
        "    layers=[\n",
        "        keras_cv.layers.JitteredResize(\n",
        "            target_size=(640, 640),\n",
        "            scale_factor=(0.75, 1.3),\n",
        "            bounding_box_format=\"xywh\"\n",
        "        ),\n",
        "        keras_cv.layers.Resizing(\n",
        "          640, 640, bounding_box_format=\"xywh\", pad_to_aspect_ratio=True\n",
        "        ),\n",
        "\n",
        "    ]\n",
        ")"
      ],
      "metadata": {
        "id": "j58ioneoiDzV"
      },
      "execution_count": 34,
      "outputs": []
    },
    {
      "cell_type": "code",
      "source": [
        "augmented_train_ds = batched_train_ds.map(lambda x: augment(x, training=True), num_parallel_calls=tf.data.AUTOTUNE)\n",
        "augmented_test_ds = batched_test_ds.map(lambda x: augment(x, training=False), num_parallel_calls=tf.data.AUTOTUNE)"
      ],
      "metadata": {
        "colab": {
          "base_uri": "https://localhost:8080/"
        },
        "id": "DISLObSNlhlM",
        "outputId": "ce3ebc5a-eb4a-4664-d66a-a19dde1ae69a"
      },
      "execution_count": 35,
      "outputs": [
        {
          "output_type": "stream",
          "name": "stderr",
          "text": [
            "WARNING:tensorflow:From /usr/local/lib/python3.8/dist-packages/tensorflow/python/autograph/pyct/static_analysis/liveness.py:83: Analyzer.lamba_check (from tensorflow.python.autograph.pyct.static_analysis.liveness) is deprecated and will be removed after 2023-09-23.\n",
            "Instructions for updating:\n",
            "Lambda fuctions will be no more assumed to be used in the statement where they are used, or at least in the same block. https://github.com/tensorflow/tensorflow/issues/56089\n"
          ]
        }
      ]
    },
    {
      "cell_type": "code",
      "source": [
        "sample = next(iter(augmented_train_ds))\n",
        "print(f\"Image shape: {sample['images'].shape}\")\n",
        "print(f\"Bounding boxes: {sample['bounding_boxes']['boxes']}\")\n",
        "print(f\"Classes: {sample['bounding_boxes']['classes']}\")"
      ],
      "metadata": {
        "colab": {
          "base_uri": "https://localhost:8080/"
        },
        "id": "0hR3p5L-lzlR",
        "outputId": "a5aa2871-5657-45c2-fefc-45de32297b16"
      },
      "execution_count": 36,
      "outputs": [
        {
          "output_type": "stream",
          "name": "stdout",
          "text": [
            "Image shape: (4, 640, 640, 3)\n",
            "Bounding boxes: <tf.RaggedTensor [[[338.4625, 206.08331, 9.253113, 13.875],\n",
            "  [562.85077, 213.79166, 9.253113, 13.875],\n",
            "  [410.9453, 263.8958, 9.253113, 16.958344]],\n",
            " [[209.06482, 103.667725, 10.188293, 16.984375],\n",
            "  [42.65625, 107.064575, 13.584351, 23.778137],\n",
            "  [273.59058, 103.667725, 14.716431, 36.233307]],\n",
            " [[523.6406, 243.17499, 12.621094, 18.516663]], []]>\n",
            "Classes: <tf.RaggedTensor [[3.0, 3.0, 4.0], [0.0, 3.0, 3.0], [3.0], []]>\n"
          ]
        }
      ]
    },
    {
      "cell_type": "code",
      "source": [
        "def dict_to_tuple(inputs):\n",
        "  return inputs['images'], keras_cv.bounding_box.to_dense(inputs['bounding_boxes'],\n",
        "                                                          max_boxes=5,\n",
        "                                                          default_value=0)"
      ],
      "metadata": {
        "id": "u20bXB1bs2IT"
      },
      "execution_count": 37,
      "outputs": []
    },
    {
      "cell_type": "code",
      "source": [
        "input_train_ds = augmented_train_ds.map(dict_to_tuple, num_parallel_calls=tf.data.AUTOTUNE)\n",
        "input_test_ds = augmented_test_ds.map(dict_to_tuple, num_parallel_calls=tf.data.AUTOTUNE)\n",
        "\n",
        "model_train_ds = input_train_ds.prefetch(tf.data.AUTOTUNE)\n",
        "model_test_ds = input_test_ds.prefetch(tf.data.AUTOTUNE)"
      ],
      "metadata": {
        "id": "x8bWQu9XtA_k"
      },
      "execution_count": 38,
      "outputs": []
    },
    {
      "cell_type": "code",
      "source": [
        "sample = next(iter(model_train_ds))\n",
        "print(f\"Image shape: {sample[0].shape}\")\n",
        "print(f\"Bounding boxes: {sample[1]['boxes']}\")\n",
        "print(f\"Classes: {sample[1]['classes']}\")"
      ],
      "metadata": {
        "colab": {
          "base_uri": "https://localhost:8080/"
        },
        "id": "pkdJh35426CH",
        "outputId": "401addf3-3f45-4fe0-f561-c41f6f967855"
      },
      "execution_count": 39,
      "outputs": [
        {
          "output_type": "stream",
          "name": "stdout",
          "text": [
            "Image shape: (4, 640, 640, 3)\n",
            "Bounding boxes: [[[419.03754  292.54166   15.121826  22.6875  ]\n",
            "  [537.4922   387.07288   15.121887  27.729187]\n",
            "  [  0.         0.         0.         0.      ]\n",
            "  [  0.         0.         0.         0.      ]\n",
            "  [  0.         0.         0.         0.      ]]\n",
            "\n",
            " [[171.2602   197.7573     7.58667   12.640625]\n",
            "  [ 47.34375  200.28543   10.115631  17.696869]\n",
            "  [219.30939  197.7573    10.958618  26.966675]\n",
            "  [  0.         0.         0.         0.      ]\n",
            "  [  0.         0.         0.         0.      ]]\n",
            "\n",
            " [[  0.         0.         0.         0.      ]\n",
            "  [  0.         0.         0.         0.      ]\n",
            "  [  0.         0.         0.         0.      ]\n",
            "  [  0.         0.         0.         0.      ]\n",
            "  [  0.         0.         0.         0.      ]]\n",
            "\n",
            " [[191.60468  193.30626    9.740662  17.852066]\n",
            "  [  0.         0.         0.         0.      ]\n",
            "  [  0.         0.         0.         0.      ]\n",
            "  [  0.         0.         0.         0.      ]\n",
            "  [  0.         0.         0.         0.      ]]]\n",
            "Classes: [[3. 4. 0. 0. 0.]\n",
            " [0. 3. 3. 0. 0.]\n",
            " [0. 0. 0. 0. 0.]\n",
            " [3. 0. 0. 0. 0.]]\n"
          ]
        }
      ]
    },
    {
      "cell_type": "code",
      "source": [
        "print(f\"Bounding boxes shape: {sample[1]['boxes'].shape}\")\n",
        "print(f\"Classes shape: {sample[1]['classes'].shape}\")"
      ],
      "metadata": {
        "colab": {
          "base_uri": "https://localhost:8080/"
        },
        "id": "rRMV8Rk_29eJ",
        "outputId": "f5b8bde0-6355-4d8d-f7a4-54b72ce04c5d"
      },
      "execution_count": 40,
      "outputs": [
        {
          "output_type": "stream",
          "name": "stdout",
          "text": [
            "Bounding boxes shape: (4, 5, 4)\n",
            "Classes shape: (4, 5)\n"
          ]
        }
      ]
    },
    {
      "cell_type": "markdown",
      "source": [
        "## Model creation and training"
      ],
      "metadata": {
        "id": "3ZDDyEq1tE4_"
      }
    },
    {
      "cell_type": "code",
      "source": [
        "tf.keras.backend.clear_session()"
      ],
      "metadata": {
        "id": "Q-i9LRr-Iwgz"
      },
      "execution_count": 41,
      "outputs": []
    },
    {
      "cell_type": "code",
      "source": [
        "retina_net = keras_cv.models.RetinaNet(\n",
        "    classes=7, # Number of classes to be used in box classification\n",
        "    bounding_box_format=\"xywh\",\n",
        "    # KerasCV offers a set of pre-configured backbones\n",
        "    backbone=keras_cv.models.ResNet50(\n",
        "        include_top=False,\n",
        "        weights=\"imagenet\",\n",
        "        include_rescaling=False\n",
        "    ).as_backbone(),\n",
        ")\n",
        "\n",
        "# For faster convergence, freeze the feature extraction filters by setting:\n",
        "retina_net.backbone.trainable = False"
      ],
      "metadata": {
        "id": "Q6ubBjQ6tC2h",
        "colab": {
          "base_uri": "https://localhost:8080/"
        },
        "outputId": "a6ebb657-50c8-4719-9a8c-d914b092bfbc"
      },
      "execution_count": 42,
      "outputs": [
        {
          "output_type": "stream",
          "name": "stdout",
          "text": [
            "Downloading data from https://storage.googleapis.com/keras-cv/models/resnet50/imagenet/classification-v0-notop.h5\n",
            "94657128/94657128 [==============================] - 0s 0us/step\n"
          ]
        }
      ]
    }
  ]
}